{
 "cells": [
  {
   "cell_type": "markdown",
   "id": "rotary-constraint",
   "metadata": {},
   "source": [
    "# Titanic Kaggle Challenge"
   ]
  },
  {
   "cell_type": "code",
   "execution_count": null,
   "id": "suitable-anthony",
   "metadata": {},
   "outputs": [],
   "source": [
    "!pip install pandas\n",
    "!pip install matplotlib\n",
    "!pip install seaborn\n",
    "!pip install numpy\n",
    "!pip install sklearn"
   ]
  },
  {
   "cell_type": "code",
   "execution_count": 313,
   "id": "billion-hierarchy",
   "metadata": {},
   "outputs": [],
   "source": [
    "import pandas as pd\n",
    "import matplotlib.pyplot as plt\n",
    "import seaborn as sb\n",
    "import numpy as np\n",
    "from sklearn.preprocessing import StandardScaler\n",
    "from sklearn.model_selection import GridSearchCV \n",
    "from sklearn.model_selection import RandomizedSearchCV \n",
    "from sklearn.metrics import fbeta_score, accuracy_score\n",
    "from sklearn.model_selection import cross_val_score\n",
    "from sklearn.naive_bayes import GaussianNB\n",
    "from sklearn.linear_model import LogisticRegression\n",
    "from sklearn import tree\n",
    "from sklearn.neighbors import KNeighborsClassifier\n",
    "from sklearn.ensemble import RandomForestClassifier\n",
    "from sklearn.svm import SVC"
   ]
  },
  {
   "cell_type": "code",
   "execution_count": 271,
   "id": "chinese-mystery",
   "metadata": {
    "scrolled": false
   },
   "outputs": [],
   "source": [
    "test = pd.read_csv('test.csv')\n",
    "train = pd.read_csv('train.csv')"
   ]
  },
  {
   "cell_type": "code",
   "execution_count": 272,
   "id": "periodic-novel",
   "metadata": {},
   "outputs": [],
   "source": [
    "data = train"
   ]
  },
  {
   "cell_type": "markdown",
   "id": "capable-fortune",
   "metadata": {},
   "source": [
    "## Data understanding"
   ]
  },
  {
   "cell_type": "code",
   "execution_count": 273,
   "id": "altered-equation",
   "metadata": {},
   "outputs": [
    {
     "data": {
      "text/plain": [
       "Index(['PassengerId', 'Survived', 'Pclass', 'Name', 'Sex', 'Age', 'SibSp',\n",
       "       'Parch', 'Ticket', 'Fare', 'Cabin', 'Embarked'],\n",
       "      dtype='object')"
      ]
     },
     "execution_count": 273,
     "metadata": {},
     "output_type": "execute_result"
    }
   ],
   "source": [
    "data.columns"
   ]
  },
  {
   "cell_type": "code",
   "execution_count": 274,
   "id": "gothic-powder",
   "metadata": {},
   "outputs": [
    {
     "data": {
      "text/plain": [
       "10692"
      ]
     },
     "execution_count": 274,
     "metadata": {},
     "output_type": "execute_result"
    }
   ],
   "source": [
    "data_volume = len(data) * len(data.columns)\n",
    "data_volume"
   ]
  },
  {
   "cell_type": "code",
   "execution_count": 275,
   "id": "corrected-venue",
   "metadata": {},
   "outputs": [
    {
     "name": "stdout",
     "output_type": "stream",
     "text": [
      "<class 'pandas.core.frame.DataFrame'>\n",
      "RangeIndex: 891 entries, 0 to 890\n",
      "Data columns (total 12 columns):\n",
      " #   Column       Non-Null Count  Dtype  \n",
      "---  ------       --------------  -----  \n",
      " 0   PassengerId  891 non-null    int64  \n",
      " 1   Survived     891 non-null    int64  \n",
      " 2   Pclass       891 non-null    int64  \n",
      " 3   Name         891 non-null    object \n",
      " 4   Sex          891 non-null    object \n",
      " 5   Age          714 non-null    float64\n",
      " 6   SibSp        891 non-null    int64  \n",
      " 7   Parch        891 non-null    int64  \n",
      " 8   Ticket       891 non-null    object \n",
      " 9   Fare         891 non-null    float64\n",
      " 10  Cabin        204 non-null    object \n",
      " 11  Embarked     889 non-null    object \n",
      "dtypes: float64(2), int64(5), object(5)\n",
      "memory usage: 83.7+ KB\n"
     ]
    }
   ],
   "source": [
    "data.info()"
   ]
  },
  {
   "cell_type": "code",
   "execution_count": 180,
   "id": "inner-requirement",
   "metadata": {
    "scrolled": true
   },
   "outputs": [
    {
     "data": {
      "text/html": [
       "<div>\n",
       "<style scoped>\n",
       "    .dataframe tbody tr th:only-of-type {\n",
       "        vertical-align: middle;\n",
       "    }\n",
       "\n",
       "    .dataframe tbody tr th {\n",
       "        vertical-align: top;\n",
       "    }\n",
       "\n",
       "    .dataframe thead th {\n",
       "        text-align: right;\n",
       "    }\n",
       "</style>\n",
       "<table border=\"1\" class=\"dataframe\">\n",
       "  <thead>\n",
       "    <tr style=\"text-align: right;\">\n",
       "      <th></th>\n",
       "      <th>PassengerId</th>\n",
       "      <th>Survived</th>\n",
       "      <th>Pclass</th>\n",
       "      <th>Age</th>\n",
       "      <th>SibSp</th>\n",
       "      <th>Parch</th>\n",
       "      <th>Fare</th>\n",
       "    </tr>\n",
       "  </thead>\n",
       "  <tbody>\n",
       "    <tr>\n",
       "      <th>count</th>\n",
       "      <td>891.000000</td>\n",
       "      <td>891.000000</td>\n",
       "      <td>891.000000</td>\n",
       "      <td>714.000000</td>\n",
       "      <td>891.000000</td>\n",
       "      <td>891.000000</td>\n",
       "      <td>891.000000</td>\n",
       "    </tr>\n",
       "    <tr>\n",
       "      <th>mean</th>\n",
       "      <td>446.000000</td>\n",
       "      <td>0.383838</td>\n",
       "      <td>2.308642</td>\n",
       "      <td>29.699118</td>\n",
       "      <td>0.523008</td>\n",
       "      <td>0.381594</td>\n",
       "      <td>32.204208</td>\n",
       "    </tr>\n",
       "    <tr>\n",
       "      <th>std</th>\n",
       "      <td>257.353842</td>\n",
       "      <td>0.486592</td>\n",
       "      <td>0.836071</td>\n",
       "      <td>14.526497</td>\n",
       "      <td>1.102743</td>\n",
       "      <td>0.806057</td>\n",
       "      <td>49.693429</td>\n",
       "    </tr>\n",
       "    <tr>\n",
       "      <th>min</th>\n",
       "      <td>1.000000</td>\n",
       "      <td>0.000000</td>\n",
       "      <td>1.000000</td>\n",
       "      <td>0.420000</td>\n",
       "      <td>0.000000</td>\n",
       "      <td>0.000000</td>\n",
       "      <td>0.000000</td>\n",
       "    </tr>\n",
       "    <tr>\n",
       "      <th>25%</th>\n",
       "      <td>223.500000</td>\n",
       "      <td>0.000000</td>\n",
       "      <td>2.000000</td>\n",
       "      <td>20.125000</td>\n",
       "      <td>0.000000</td>\n",
       "      <td>0.000000</td>\n",
       "      <td>7.910400</td>\n",
       "    </tr>\n",
       "    <tr>\n",
       "      <th>50%</th>\n",
       "      <td>446.000000</td>\n",
       "      <td>0.000000</td>\n",
       "      <td>3.000000</td>\n",
       "      <td>28.000000</td>\n",
       "      <td>0.000000</td>\n",
       "      <td>0.000000</td>\n",
       "      <td>14.454200</td>\n",
       "    </tr>\n",
       "    <tr>\n",
       "      <th>75%</th>\n",
       "      <td>668.500000</td>\n",
       "      <td>1.000000</td>\n",
       "      <td>3.000000</td>\n",
       "      <td>38.000000</td>\n",
       "      <td>1.000000</td>\n",
       "      <td>0.000000</td>\n",
       "      <td>31.000000</td>\n",
       "    </tr>\n",
       "    <tr>\n",
       "      <th>max</th>\n",
       "      <td>891.000000</td>\n",
       "      <td>1.000000</td>\n",
       "      <td>3.000000</td>\n",
       "      <td>80.000000</td>\n",
       "      <td>8.000000</td>\n",
       "      <td>6.000000</td>\n",
       "      <td>512.329200</td>\n",
       "    </tr>\n",
       "  </tbody>\n",
       "</table>\n",
       "</div>"
      ],
      "text/plain": [
       "       PassengerId    Survived      Pclass         Age       SibSp  \\\n",
       "count   891.000000  891.000000  891.000000  714.000000  891.000000   \n",
       "mean    446.000000    0.383838    2.308642   29.699118    0.523008   \n",
       "std     257.353842    0.486592    0.836071   14.526497    1.102743   \n",
       "min       1.000000    0.000000    1.000000    0.420000    0.000000   \n",
       "25%     223.500000    0.000000    2.000000   20.125000    0.000000   \n",
       "50%     446.000000    0.000000    3.000000   28.000000    0.000000   \n",
       "75%     668.500000    1.000000    3.000000   38.000000    1.000000   \n",
       "max     891.000000    1.000000    3.000000   80.000000    8.000000   \n",
       "\n",
       "            Parch        Fare  \n",
       "count  891.000000  891.000000  \n",
       "mean     0.381594   32.204208  \n",
       "std      0.806057   49.693429  \n",
       "min      0.000000    0.000000  \n",
       "25%      0.000000    7.910400  \n",
       "50%      0.000000   14.454200  \n",
       "75%      0.000000   31.000000  \n",
       "max      6.000000  512.329200  "
      ]
     },
     "execution_count": 180,
     "metadata": {},
     "output_type": "execute_result"
    }
   ],
   "source": [
    "data.describe()"
   ]
  },
  {
   "cell_type": "code",
   "execution_count": 181,
   "id": "stainless-publication",
   "metadata": {},
   "outputs": [],
   "source": [
    "numerical_data = data[['Age', 'SibSp', 'Parch', 'Fare']]\n",
    "cat_data = data[['Survived', 'Pclass', 'Sex', 'Ticket', 'Cabin', 'Embarked']]"
   ]
  },
  {
   "cell_type": "markdown",
   "id": "impressive-attention",
   "metadata": {},
   "source": [
    "### Investigate numerical data"
   ]
  },
  {
   "cell_type": "code",
   "execution_count": 182,
   "id": "compact-revision",
   "metadata": {},
   "outputs": [
    {
     "data": {
      "image/png": "[encoded data removed]",
      "text/plain": [
       "<Figure size 720x432 with 4 Axes>"
      ]
     },
     "metadata": {
      "needs_background": "light"
     },
     "output_type": "display_data"
    }
   ],
   "source": [
    "fig, axs = plt.subplots(2, 2, figsize=(10, 6))\n",
    "i, j = 0, 0\n",
    "for col in numerical_data.columns:\n",
    "    axs[i, j].hist(numerical_data[col])\n",
    "    axs[i, j].set_title(col)\n",
    "    j += 1\n",
    "    if j == 2:\n",
    "        j = 0 \n",
    "        i += 1\n",
    "plt.show()"
   ]
  },
  {
   "cell_type": "code",
   "execution_count": 183,
   "id": "incorrect-portugal",
   "metadata": {},
   "outputs": [
    {
     "data": {
      "text/html": [
       "<div>\n",
       "<style scoped>\n",
       "    .dataframe tbody tr th:only-of-type {\n",
       "        vertical-align: middle;\n",
       "    }\n",
       "\n",
       "    .dataframe tbody tr th {\n",
       "        vertical-align: top;\n",
       "    }\n",
       "\n",
       "    .dataframe thead th {\n",
       "        text-align: right;\n",
       "    }\n",
       "</style>\n",
       "<table border=\"1\" class=\"dataframe\">\n",
       "  <thead>\n",
       "    <tr style=\"text-align: right;\">\n",
       "      <th></th>\n",
       "      <th>Age</th>\n",
       "      <th>SibSp</th>\n",
       "      <th>Parch</th>\n",
       "      <th>Fare</th>\n",
       "    </tr>\n",
       "  </thead>\n",
       "  <tbody>\n",
       "    <tr>\n",
       "      <th>Age</th>\n",
       "      <td>1.000000</td>\n",
       "      <td>-0.308247</td>\n",
       "      <td>-0.189119</td>\n",
       "      <td>0.096067</td>\n",
       "    </tr>\n",
       "    <tr>\n",
       "      <th>SibSp</th>\n",
       "      <td>-0.308247</td>\n",
       "      <td>1.000000</td>\n",
       "      <td>0.414838</td>\n",
       "      <td>0.159651</td>\n",
       "    </tr>\n",
       "    <tr>\n",
       "      <th>Parch</th>\n",
       "      <td>-0.189119</td>\n",
       "      <td>0.414838</td>\n",
       "      <td>1.000000</td>\n",
       "      <td>0.216225</td>\n",
       "    </tr>\n",
       "    <tr>\n",
       "      <th>Fare</th>\n",
       "      <td>0.096067</td>\n",
       "      <td>0.159651</td>\n",
       "      <td>0.216225</td>\n",
       "      <td>1.000000</td>\n",
       "    </tr>\n",
       "  </tbody>\n",
       "</table>\n",
       "</div>"
      ],
      "text/plain": [
       "            Age     SibSp     Parch      Fare\n",
       "Age    1.000000 -0.308247 -0.189119  0.096067\n",
       "SibSp -0.308247  1.000000  0.414838  0.159651\n",
       "Parch -0.189119  0.414838  1.000000  0.216225\n",
       "Fare   0.096067  0.159651  0.216225  1.000000"
      ]
     },
     "execution_count": 183,
     "metadata": {},
     "output_type": "execute_result"
    }
   ],
   "source": [
    "numerical_data.corr()"
   ]
  },
  {
   "cell_type": "code",
   "execution_count": 184,
   "id": "still-violation",
   "metadata": {},
   "outputs": [
    {
     "data": {
      "text/plain": [
       "<AxesSubplot:>"
      ]
     },
     "execution_count": 184,
     "metadata": {},
     "output_type": "execute_result"
    },
    {
     "data": {
      "image/png": "[encoded data removed]",
      "text/plain": [
       "<Figure size 432x288 with 2 Axes>"
      ]
     },
     "metadata": {
      "needs_background": "light"
     },
     "output_type": "display_data"
    }
   ],
   "source": [
    "sb.heatmap(numerical_data.corr())"
   ]
  },
  {
   "cell_type": "markdown",
   "id": "laden-brother",
   "metadata": {},
   "source": [
    "- Age & SibSp (corr.coef. equals to -0.31), Age & Parch - with the increasing the age, the amount of sibl-s/spouses decreases and vice versa. The same thing is going with the amount of parents / childs.\n",
    "- Age & Fare (corr. coef equals to 0.096) - there is almost no dependency between these variables\n",
    "- Sibsp & Parch (corr.coef. equals to 0.41) - means that families used to travel together\n",
    "- Sibsp & Fare, Parch & Fare (corr.coef. 0.15, 0.21) - both variables move in in the same direction"
   ]
  },
  {
   "cell_type": "code",
   "execution_count": 185,
   "id": "smart-pepper",
   "metadata": {
    "scrolled": true
   },
   "outputs": [
    {
     "data": {
      "text/html": [
       "<div>\n",
       "<style scoped>\n",
       "    .dataframe tbody tr th:only-of-type {\n",
       "        vertical-align: middle;\n",
       "    }\n",
       "\n",
       "    .dataframe tbody tr th {\n",
       "        vertical-align: top;\n",
       "    }\n",
       "\n",
       "    .dataframe thead th {\n",
       "        text-align: right;\n",
       "    }\n",
       "</style>\n",
       "<table border=\"1\" class=\"dataframe\">\n",
       "  <thead>\n",
       "    <tr style=\"text-align: right;\">\n",
       "      <th></th>\n",
       "      <th>Age</th>\n",
       "      <th>Fare</th>\n",
       "      <th>Parch</th>\n",
       "      <th>SibSp</th>\n",
       "    </tr>\n",
       "    <tr>\n",
       "      <th>Survived</th>\n",
       "      <th></th>\n",
       "      <th></th>\n",
       "      <th></th>\n",
       "      <th></th>\n",
       "    </tr>\n",
       "  </thead>\n",
       "  <tbody>\n",
       "    <tr>\n",
       "      <th>0</th>\n",
       "      <td>30.626179</td>\n",
       "      <td>22.117887</td>\n",
       "      <td>0.329690</td>\n",
       "      <td>0.553734</td>\n",
       "    </tr>\n",
       "    <tr>\n",
       "      <th>1</th>\n",
       "      <td>28.343690</td>\n",
       "      <td>48.395408</td>\n",
       "      <td>0.464912</td>\n",
       "      <td>0.473684</td>\n",
       "    </tr>\n",
       "  </tbody>\n",
       "</table>\n",
       "</div>"
      ],
      "text/plain": [
       "                Age       Fare     Parch     SibSp\n",
       "Survived                                          \n",
       "0         30.626179  22.117887  0.329690  0.553734\n",
       "1         28.343690  48.395408  0.464912  0.473684"
      ]
     },
     "execution_count": 185,
     "metadata": {},
     "output_type": "execute_result"
    }
   ],
   "source": [
    "# Comparing survival rate between variables\n",
    "pd.pivot_table(data, index='Survived', values=numerical_data.columns)"
   ]
  },
  {
   "cell_type": "markdown",
   "id": "fitted-playing",
   "metadata": {},
   "source": [
    "The average age of survivors is 28 y.o., not-survivors - 31 y.o. The fare for survivors is 2 times more than for not-survivors. If the person has parents, it's more probably that parents will give it their chance to survive. But if the person has siblings, the chance of surviving is less. It's not much statistically meaningful, according to the numbers. **From this part of research, It should be noticed, that people who younger and people who paid more have bigger chance to survive.**"
   ]
  },
  {
   "cell_type": "markdown",
   "id": "radio-complexity",
   "metadata": {},
   "source": [
    "### Investigate categorical data"
   ]
  },
  {
   "cell_type": "code",
   "execution_count": 186,
   "id": "expected-rebate",
   "metadata": {
    "scrolled": true
   },
   "outputs": [
    {
     "name": "stderr",
     "output_type": "stream",
     "text": [
      "C:\\Users\\irair\\Anaconda3\\envs\\pythonProject\\lib\\site-packages\\seaborn\\_decorators.py:36: FutureWarning: Pass the following variables as keyword args: x, y. From version 0.12, the only valid positional argument will be `data`, and passing other arguments without an explicit keyword will result in an error or misinterpretation.\n",
      "  warnings.warn(\n"
     ]
    },
    {
     "data": {
      "image/png": "[encoded data removed]",
      "text/plain": [
       "<Figure size 432x288 with 1 Axes>"
      ]
     },
     "metadata": {
      "needs_background": "light"
     },
     "output_type": "display_data"
    },
    {
     "name": "stderr",
     "output_type": "stream",
     "text": [
      "C:\\Users\\irair\\Anaconda3\\envs\\pythonProject\\lib\\site-packages\\seaborn\\_decorators.py:36: FutureWarning: Pass the following variables as keyword args: x, y. From version 0.12, the only valid positional argument will be `data`, and passing other arguments without an explicit keyword will result in an error or misinterpretation.\n",
      "  warnings.warn(\n"
     ]
    },
    {
     "data": {
      "image/png": "[encoded data removed]",
      "text/plain": [
       "<Figure size 432x288 with 1 Axes>"
      ]
     },
     "metadata": {
      "needs_background": "light"
     },
     "output_type": "display_data"
    },
    {
     "name": "stderr",
     "output_type": "stream",
     "text": [
      "C:\\Users\\irair\\Anaconda3\\envs\\pythonProject\\lib\\site-packages\\seaborn\\_decorators.py:36: FutureWarning: Pass the following variables as keyword args: x, y. From version 0.12, the only valid positional argument will be `data`, and passing other arguments without an explicit keyword will result in an error or misinterpretation.\n",
      "  warnings.warn(\n"
     ]
    },
    {
     "data": {
      "image/png": "[encoded data removed]",
      "text/plain": [
       "<Figure size 432x288 with 1 Axes>"
      ]
     },
     "metadata": {
      "needs_background": "light"
     },
     "output_type": "display_data"
    },
    {
     "name": "stderr",
     "output_type": "stream",
     "text": [
      "C:\\Users\\irair\\Anaconda3\\envs\\pythonProject\\lib\\site-packages\\seaborn\\_decorators.py:36: FutureWarning: Pass the following variables as keyword args: x, y. From version 0.12, the only valid positional argument will be `data`, and passing other arguments without an explicit keyword will result in an error or misinterpretation.\n",
      "  warnings.warn(\n"
     ]
    },
    {
     "data": {
      "image/png": "[encoded data removed]",
      "text/plain": [
       "<Figure size 432x288 with 1 Axes>"
      ]
     },
     "metadata": {
      "needs_background": "light"
     },
     "output_type": "display_data"
    },
    {
     "name": "stderr",
     "output_type": "stream",
     "text": [
      "C:\\Users\\irair\\Anaconda3\\envs\\pythonProject\\lib\\site-packages\\seaborn\\_decorators.py:36: FutureWarning: Pass the following variables as keyword args: x, y. From version 0.12, the only valid positional argument will be `data`, and passing other arguments without an explicit keyword will result in an error or misinterpretation.\n",
      "  warnings.warn(\n"
     ]
    },
    {
     "data": {
      "image/png": "[encoded data removed]",
      "text/plain": [
       "<Figure size 432x288 with 1 Axes>"
      ]
     },
     "metadata": {
      "needs_background": "light"
     },
     "output_type": "display_data"
    },
    {
     "name": "stderr",
     "output_type": "stream",
     "text": [
      "C:\\Users\\irair\\Anaconda3\\envs\\pythonProject\\lib\\site-packages\\seaborn\\_decorators.py:36: FutureWarning: Pass the following variables as keyword args: x, y. From version 0.12, the only valid positional argument will be `data`, and passing other arguments without an explicit keyword will result in an error or misinterpretation.\n",
      "  warnings.warn(\n"
     ]
    },
    {
     "data": {
      "image/png": "[encoded data removed]",
      "text/plain": [
       "<Figure size 432x288 with 1 Axes>"
      ]
     },
     "metadata": {
      "needs_background": "light"
     },
     "output_type": "display_data"
    }
   ],
   "source": [
    "for col in cat_data.columns:\n",
    "    sb.barplot(cat_data[col].value_counts().index, cat_data[col].value_counts()).set_title(col)\n",
    "    plt.show()"
   ]
  },
  {
   "cell_type": "markdown",
   "id": "compatible-moisture",
   "metadata": {},
   "source": [
    "1. There are more people who died than survived\n",
    "2. The majority of the people took cheap tickets (the 3rd class)\n",
    "3. There were more men than women on the ship's board\n",
    "4, 5. The distribution of tickets and cabins\n",
    "6. Where do people embarked"
   ]
  },
  {
   "cell_type": "code",
   "execution_count": 187,
   "id": "minute-suite",
   "metadata": {},
   "outputs": [
    {
     "name": "stdout",
     "output_type": "stream",
     "text": [
      "Pclass      1   2    3\n",
      "Survived              \n",
      "0          80  97  372\n",
      "1         136  87  119\n",
      "\n",
      "Sex       female  male\n",
      "Survived              \n",
      "0             81   468\n",
      "1            233   109\n",
      "\n",
      "Embarked   C   Q    S\n",
      "Survived             \n",
      "0         75  47  427\n",
      "1         93  30  217\n",
      "\n"
     ]
    }
   ],
   "source": [
    "print(pd.pivot_table(data, index='Survived', columns='Pclass', values='Ticket', aggfunc='count'), end='\\n\\n')\n",
    "print(pd.pivot_table(data, index='Survived', columns='Sex', values='Ticket', aggfunc='count'), end='\\n\\n')\n",
    "print(pd.pivot_table(data, index='Survived', columns='Embarked', values='Ticket', aggfunc='count'), end='\\n\\n')"
   ]
  },
  {
   "cell_type": "markdown",
   "id": "stock-baltimore",
   "metadata": {},
   "source": [
    "#### Let's read this data:\n",
    "1. The majority (75%) of people from 3rd class died. And the majority of people from 1st class (62%) survived. \n",
    "2. The majority of women (74%) survived and the majority of men (81%) died. It confirms the fact that in saving people, preference was given to women and children.\n",
    "3. People who embarked at Cherbourg had a bigger chance to survive"
   ]
  },
  {
   "cell_type": "markdown",
   "id": "artistic-sponsorship",
   "metadata": {},
   "source": [
    "## Feature exploration"
   ]
  },
  {
   "cell_type": "markdown",
   "id": "chief-thanks",
   "metadata": {},
   "source": [
    "We just learned correlation between variables and distributions between some features and surviving rate. Now, let's explore the features before performing feature engineering step."
   ]
  },
  {
   "cell_type": "markdown",
   "id": "appreciated-western",
   "metadata": {},
   "source": [
    "**Cabin feature** "
   ]
  },
  {
   "cell_type": "code",
   "execution_count": 188,
   "id": "assumed-helping",
   "metadata": {},
   "outputs": [
    {
     "data": {
      "text/plain": [
       "147"
      ]
     },
     "execution_count": 188,
     "metadata": {},
     "output_type": "execute_result"
    }
   ],
   "source": [
    "len(data.groupby('Cabin').groups)"
   ]
  },
  {
   "cell_type": "markdown",
   "id": "welsh-religious",
   "metadata": {},
   "source": [
    "There are 147 groups of cabin types. The cabin type = a letter + number. Let's split them up"
   ]
  },
  {
   "cell_type": "code",
   "execution_count": 189,
   "id": "mexican-looking",
   "metadata": {},
   "outputs": [],
   "source": [
    "data['Cabin_multiple'] = data['Cabin'].apply(lambda x: 0 if pd.isna(x) else len(x.split(' ')))\n",
    "data['Cabin_level'] = data['Cabin'].apply(lambda x: str(x)[0])"
   ]
  },
  {
   "cell_type": "code",
   "execution_count": 190,
   "id": "liberal-bikini",
   "metadata": {},
   "outputs": [
    {
     "data": {
      "text/plain": [
       "0    687\n",
       "1    180\n",
       "2     16\n",
       "3      6\n",
       "4      2\n",
       "Name: Cabin_multiple, dtype: int64"
      ]
     },
     "execution_count": 190,
     "metadata": {},
     "output_type": "execute_result"
    }
   ],
   "source": [
    "data['Cabin_multiple'].value_counts()"
   ]
  },
  {
   "cell_type": "code",
   "execution_count": 191,
   "id": "grand-admission",
   "metadata": {},
   "outputs": [
    {
     "data": {
      "text/plain": [
       "n    687\n",
       "C     59\n",
       "B     47\n",
       "D     33\n",
       "E     32\n",
       "A     15\n",
       "F     13\n",
       "G      4\n",
       "T      1\n",
       "Name: Cabin_level, dtype: int64"
      ]
     },
     "execution_count": 191,
     "metadata": {},
     "output_type": "execute_result"
    }
   ],
   "source": [
    "data['Cabin_level'].value_counts()"
   ]
  },
  {
   "cell_type": "markdown",
   "id": "committed-aaron",
   "metadata": {},
   "source": [
    "The definition:\n",
    "- 0 - NaN\n",
    "- 180 people have only 1 cabin\n",
    "- 16 people have 2 cabins\n",
    "- 6 people have 3 cabins\n",
    "- 2 people have 4 cabins"
   ]
  },
  {
   "cell_type": "code",
   "execution_count": 192,
   "id": "grand-visibility",
   "metadata": {},
   "outputs": [
    {
     "data": {
      "text/html": [
       "<div>\n",
       "<style scoped>\n",
       "    .dataframe tbody tr th:only-of-type {\n",
       "        vertical-align: middle;\n",
       "    }\n",
       "\n",
       "    .dataframe tbody tr th {\n",
       "        vertical-align: top;\n",
       "    }\n",
       "\n",
       "    .dataframe thead th {\n",
       "        text-align: right;\n",
       "    }\n",
       "</style>\n",
       "<table border=\"1\" class=\"dataframe\">\n",
       "  <thead>\n",
       "    <tr style=\"text-align: right;\">\n",
       "      <th>Cabin_multiple</th>\n",
       "      <th>0</th>\n",
       "      <th>1</th>\n",
       "      <th>2</th>\n",
       "      <th>3</th>\n",
       "      <th>4</th>\n",
       "    </tr>\n",
       "    <tr>\n",
       "      <th>Survived</th>\n",
       "      <th></th>\n",
       "      <th></th>\n",
       "      <th></th>\n",
       "      <th></th>\n",
       "      <th></th>\n",
       "    </tr>\n",
       "  </thead>\n",
       "  <tbody>\n",
       "    <tr>\n",
       "      <th>0</th>\n",
       "      <td>481.0</td>\n",
       "      <td>58.0</td>\n",
       "      <td>7.0</td>\n",
       "      <td>3.0</td>\n",
       "      <td>NaN</td>\n",
       "    </tr>\n",
       "    <tr>\n",
       "      <th>1</th>\n",
       "      <td>206.0</td>\n",
       "      <td>122.0</td>\n",
       "      <td>9.0</td>\n",
       "      <td>3.0</td>\n",
       "      <td>2.0</td>\n",
       "    </tr>\n",
       "  </tbody>\n",
       "</table>\n",
       "</div>"
      ],
      "text/plain": [
       "Cabin_multiple      0      1    2    3    4\n",
       "Survived                                   \n",
       "0               481.0   58.0  7.0  3.0  NaN\n",
       "1               206.0  122.0  9.0  3.0  2.0"
      ]
     },
     "execution_count": 192,
     "metadata": {},
     "output_type": "execute_result"
    }
   ],
   "source": [
    "pd.pivot_table(data, index='Survived', columns='Cabin_multiple', values='Ticket', aggfunc='count')"
   ]
  },
  {
   "cell_type": "markdown",
   "id": "valued-joining",
   "metadata": {},
   "source": [
    "**The majority of people who's cabin isn't defined (71%) died.** The information about people with 2,3,4 cabins doesn't statistically matter. But we can clearly see that people with cabins have bigger chance to survive. We will left this feature in the dataframe to predict the surviving."
   ]
  },
  {
   "cell_type": "code",
   "execution_count": 193,
   "id": "balanced-breakfast",
   "metadata": {},
   "outputs": [
    {
     "data": {
      "text/html": [
       "<div>\n",
       "<style scoped>\n",
       "    .dataframe tbody tr th:only-of-type {\n",
       "        vertical-align: middle;\n",
       "    }\n",
       "\n",
       "    .dataframe tbody tr th {\n",
       "        vertical-align: top;\n",
       "    }\n",
       "\n",
       "    .dataframe thead th {\n",
       "        text-align: right;\n",
       "    }\n",
       "</style>\n",
       "<table border=\"1\" class=\"dataframe\">\n",
       "  <thead>\n",
       "    <tr style=\"text-align: right;\">\n",
       "      <th>Cabin_level</th>\n",
       "      <th>A</th>\n",
       "      <th>B</th>\n",
       "      <th>C</th>\n",
       "      <th>D</th>\n",
       "      <th>E</th>\n",
       "      <th>F</th>\n",
       "      <th>G</th>\n",
       "      <th>T</th>\n",
       "      <th>n</th>\n",
       "    </tr>\n",
       "    <tr>\n",
       "      <th>Survived</th>\n",
       "      <th></th>\n",
       "      <th></th>\n",
       "      <th></th>\n",
       "      <th></th>\n",
       "      <th></th>\n",
       "      <th></th>\n",
       "      <th></th>\n",
       "      <th></th>\n",
       "      <th></th>\n",
       "    </tr>\n",
       "  </thead>\n",
       "  <tbody>\n",
       "    <tr>\n",
       "      <th>0</th>\n",
       "      <td>8.0</td>\n",
       "      <td>12.0</td>\n",
       "      <td>24.0</td>\n",
       "      <td>8.0</td>\n",
       "      <td>8.0</td>\n",
       "      <td>5.0</td>\n",
       "      <td>2.0</td>\n",
       "      <td>1.0</td>\n",
       "      <td>481.0</td>\n",
       "    </tr>\n",
       "    <tr>\n",
       "      <th>1</th>\n",
       "      <td>7.0</td>\n",
       "      <td>35.0</td>\n",
       "      <td>35.0</td>\n",
       "      <td>25.0</td>\n",
       "      <td>24.0</td>\n",
       "      <td>8.0</td>\n",
       "      <td>2.0</td>\n",
       "      <td>NaN</td>\n",
       "      <td>206.0</td>\n",
       "    </tr>\n",
       "  </tbody>\n",
       "</table>\n",
       "</div>"
      ],
      "text/plain": [
       "Cabin_level    A     B     C     D     E    F    G    T      n\n",
       "Survived                                                      \n",
       "0            8.0  12.0  24.0   8.0   8.0  5.0  2.0  1.0  481.0\n",
       "1            7.0  35.0  35.0  25.0  24.0  8.0  2.0  NaN  206.0"
      ]
     },
     "execution_count": 193,
     "metadata": {},
     "output_type": "execute_result"
    }
   ],
   "source": [
    "pd.pivot_table(data, index='Survived', columns='Cabin_level', values='Ticket', aggfunc='count')"
   ]
  },
  {
   "cell_type": "markdown",
   "id": "julian-hopkins",
   "metadata": {},
   "source": [
    "We can reduce the amount of categorical values of Cabin variable, if we take only the floor number (A, B, C, etc. - this is a floor). "
   ]
  },
  {
   "cell_type": "code",
   "execution_count": 194,
   "id": "public-action",
   "metadata": {},
   "outputs": [],
   "source": [
    "data = data.drop(columns='Cabin')"
   ]
  },
  {
   "cell_type": "markdown",
   "id": "answering-republican",
   "metadata": {},
   "source": [
    "**Ticket feature** "
   ]
  },
  {
   "cell_type": "code",
   "execution_count": 195,
   "id": "addressed-bearing",
   "metadata": {},
   "outputs": [
    {
     "data": {
      "text/html": [
       "<div>\n",
       "<style scoped>\n",
       "    .dataframe tbody tr th:only-of-type {\n",
       "        vertical-align: middle;\n",
       "    }\n",
       "\n",
       "    .dataframe tbody tr th {\n",
       "        vertical-align: top;\n",
       "    }\n",
       "\n",
       "    .dataframe thead th {\n",
       "        text-align: right;\n",
       "    }\n",
       "</style>\n",
       "<table border=\"1\" class=\"dataframe\">\n",
       "  <thead>\n",
       "    <tr style=\"text-align: right;\">\n",
       "      <th></th>\n",
       "      <th>Ticket</th>\n",
       "    </tr>\n",
       "  </thead>\n",
       "  <tbody>\n",
       "    <tr>\n",
       "      <th>0</th>\n",
       "      <td>A/5 21171</td>\n",
       "    </tr>\n",
       "    <tr>\n",
       "      <th>1</th>\n",
       "      <td>PC 17599</td>\n",
       "    </tr>\n",
       "    <tr>\n",
       "      <th>2</th>\n",
       "      <td>STON/O2. 3101282</td>\n",
       "    </tr>\n",
       "    <tr>\n",
       "      <th>3</th>\n",
       "      <td>113803</td>\n",
       "    </tr>\n",
       "    <tr>\n",
       "      <th>4</th>\n",
       "      <td>373450</td>\n",
       "    </tr>\n",
       "    <tr>\n",
       "      <th>...</th>\n",
       "      <td>...</td>\n",
       "    </tr>\n",
       "    <tr>\n",
       "      <th>886</th>\n",
       "      <td>211536</td>\n",
       "    </tr>\n",
       "    <tr>\n",
       "      <th>887</th>\n",
       "      <td>112053</td>\n",
       "    </tr>\n",
       "    <tr>\n",
       "      <th>888</th>\n",
       "      <td>W./C. 6607</td>\n",
       "    </tr>\n",
       "    <tr>\n",
       "      <th>889</th>\n",
       "      <td>111369</td>\n",
       "    </tr>\n",
       "    <tr>\n",
       "      <th>890</th>\n",
       "      <td>370376</td>\n",
       "    </tr>\n",
       "  </tbody>\n",
       "</table>\n",
       "<p>891 rows × 1 columns</p>\n",
       "</div>"
      ],
      "text/plain": [
       "               Ticket\n",
       "0           A/5 21171\n",
       "1            PC 17599\n",
       "2    STON/O2. 3101282\n",
       "3              113803\n",
       "4              373450\n",
       "..                ...\n",
       "886            211536\n",
       "887            112053\n",
       "888        W./C. 6607\n",
       "889            111369\n",
       "890            370376\n",
       "\n",
       "[891 rows x 1 columns]"
      ]
     },
     "execution_count": 195,
     "metadata": {},
     "output_type": "execute_result"
    }
   ],
   "source": [
    "data[['Ticket']]"
   ]
  },
  {
   "cell_type": "code",
   "execution_count": 196,
   "id": "considerable-oklahoma",
   "metadata": {},
   "outputs": [
    {
     "data": {
      "text/plain": [
       "681"
      ]
     },
     "execution_count": 196,
     "metadata": {},
     "output_type": "execute_result"
    }
   ],
   "source": [
    "len(data.groupby('Ticket').groups)"
   ]
  },
  {
   "cell_type": "code",
   "execution_count": 197,
   "id": "verified-greene",
   "metadata": {},
   "outputs": [],
   "source": [
    "data['Numeric_ticket'] = data['Ticket'].apply(lambda x: x if x.isnumeric() else 0)\n",
    "data['Letter_ticket'] = data['Ticket'].apply(lambda x: ''.join(x.split(' ')[:-1])\n",
    "                                             .replace('.', '')\n",
    "                                             .replace('/', '').lower() if len(x.split(' ')[:-1]) > 0 else 0)"
   ]
  },
  {
   "cell_type": "code",
   "execution_count": 198,
   "id": "dominant-voltage",
   "metadata": {},
   "outputs": [
    {
     "data": {
      "text/plain": [
       "0          230\n",
       "1601         7\n",
       "347082       7\n",
       "347088       6\n",
       "3101295      6\n",
       "          ... \n",
       "330980       1\n",
       "347076       1\n",
       "7540         1\n",
       "14312        1\n",
       "113788       1\n",
       "Name: Numeric_ticket, Length: 515, dtype: int64"
      ]
     },
     "execution_count": 198,
     "metadata": {},
     "output_type": "execute_result"
    }
   ],
   "source": [
    "data['Numeric_ticket'].value_counts()"
   ]
  },
  {
   "cell_type": "code",
   "execution_count": 199,
   "id": "polished-midwest",
   "metadata": {},
   "outputs": [
    {
     "data": {
      "text/plain": [
       "0            665\n",
       "pc            60\n",
       "ca            41\n",
       "a5            21\n",
       "stono2        18\n",
       "sotonoq       15\n",
       "scparis       11\n",
       "wc            10\n",
       "a4             7\n",
       "soc            6\n",
       "fcc            5\n",
       "c              5\n",
       "sopp           3\n",
       "wep            3\n",
       "pp             3\n",
       "swpp           2\n",
       "ppp            2\n",
       "sotono2        2\n",
       "scah           2\n",
       "fa             1\n",
       "as             1\n",
       "sop            1\n",
       "scahbasle      1\n",
       "casoton        1\n",
       "sca4           1\n",
       "scow           1\n",
       "sc             1\n",
       "sp             1\n",
       "fc             1\n",
       "Name: Letter_ticket, dtype: int64"
      ]
     },
     "execution_count": 199,
     "metadata": {},
     "output_type": "execute_result"
    }
   ],
   "source": [
    "data['Letter_ticket'].value_counts()"
   ]
  },
  {
   "cell_type": "markdown",
   "id": "racial-freeware",
   "metadata": {},
   "source": [
    "The distribution for 0 and 1 values and variable 'Survived' is the same as for initial data. According to the initial data, 61% of all passengers died. For numerical_ticket also 61% of people died as for non-numerical ticket "
   ]
  },
  {
   "cell_type": "code",
   "execution_count": 200,
   "id": "growing-treasure",
   "metadata": {},
   "outputs": [
    {
     "data": {
      "text/html": [
       "<div>\n",
       "<style scoped>\n",
       "    .dataframe tbody tr th:only-of-type {\n",
       "        vertical-align: middle;\n",
       "    }\n",
       "\n",
       "    .dataframe tbody tr th {\n",
       "        vertical-align: top;\n",
       "    }\n",
       "\n",
       "    .dataframe thead th {\n",
       "        text-align: right;\n",
       "    }\n",
       "</style>\n",
       "<table border=\"1\" class=\"dataframe\">\n",
       "  <thead>\n",
       "    <tr style=\"text-align: right;\">\n",
       "      <th>Letter_ticket</th>\n",
       "      <th>0</th>\n",
       "      <th>a4</th>\n",
       "      <th>a5</th>\n",
       "      <th>as</th>\n",
       "      <th>c</th>\n",
       "      <th>ca</th>\n",
       "      <th>casoton</th>\n",
       "      <th>fa</th>\n",
       "      <th>fc</th>\n",
       "      <th>fcc</th>\n",
       "      <th>...</th>\n",
       "      <th>soc</th>\n",
       "      <th>sop</th>\n",
       "      <th>sopp</th>\n",
       "      <th>sotono2</th>\n",
       "      <th>sotonoq</th>\n",
       "      <th>sp</th>\n",
       "      <th>stono2</th>\n",
       "      <th>swpp</th>\n",
       "      <th>wc</th>\n",
       "      <th>wep</th>\n",
       "    </tr>\n",
       "    <tr>\n",
       "      <th>Survived</th>\n",
       "      <th></th>\n",
       "      <th></th>\n",
       "      <th></th>\n",
       "      <th></th>\n",
       "      <th></th>\n",
       "      <th></th>\n",
       "      <th></th>\n",
       "      <th></th>\n",
       "      <th></th>\n",
       "      <th></th>\n",
       "      <th></th>\n",
       "      <th></th>\n",
       "      <th></th>\n",
       "      <th></th>\n",
       "      <th></th>\n",
       "      <th></th>\n",
       "      <th></th>\n",
       "      <th></th>\n",
       "      <th></th>\n",
       "      <th></th>\n",
       "      <th></th>\n",
       "    </tr>\n",
       "  </thead>\n",
       "  <tbody>\n",
       "    <tr>\n",
       "      <th>0</th>\n",
       "      <td>410.0</td>\n",
       "      <td>7.0</td>\n",
       "      <td>19.0</td>\n",
       "      <td>1.0</td>\n",
       "      <td>3.0</td>\n",
       "      <td>27.0</td>\n",
       "      <td>1.0</td>\n",
       "      <td>1.0</td>\n",
       "      <td>1.0</td>\n",
       "      <td>1.0</td>\n",
       "      <td>...</td>\n",
       "      <td>5.0</td>\n",
       "      <td>1.0</td>\n",
       "      <td>3.0</td>\n",
       "      <td>2.0</td>\n",
       "      <td>13.0</td>\n",
       "      <td>1.0</td>\n",
       "      <td>10.0</td>\n",
       "      <td>NaN</td>\n",
       "      <td>9.0</td>\n",
       "      <td>2.0</td>\n",
       "    </tr>\n",
       "    <tr>\n",
       "      <th>1</th>\n",
       "      <td>255.0</td>\n",
       "      <td>NaN</td>\n",
       "      <td>2.0</td>\n",
       "      <td>NaN</td>\n",
       "      <td>2.0</td>\n",
       "      <td>14.0</td>\n",
       "      <td>NaN</td>\n",
       "      <td>NaN</td>\n",
       "      <td>NaN</td>\n",
       "      <td>4.0</td>\n",
       "      <td>...</td>\n",
       "      <td>1.0</td>\n",
       "      <td>NaN</td>\n",
       "      <td>NaN</td>\n",
       "      <td>NaN</td>\n",
       "      <td>2.0</td>\n",
       "      <td>NaN</td>\n",
       "      <td>8.0</td>\n",
       "      <td>2.0</td>\n",
       "      <td>1.0</td>\n",
       "      <td>1.0</td>\n",
       "    </tr>\n",
       "  </tbody>\n",
       "</table>\n",
       "<p>2 rows × 29 columns</p>\n",
       "</div>"
      ],
      "text/plain": [
       "Letter_ticket      0   a4    a5   as    c    ca  casoton   fa   fc  fcc  ...  \\\n",
       "Survived                                                                 ...   \n",
       "0              410.0  7.0  19.0  1.0  3.0  27.0      1.0  1.0  1.0  1.0  ...   \n",
       "1              255.0  NaN   2.0  NaN  2.0  14.0      NaN  NaN  NaN  4.0  ...   \n",
       "\n",
       "Letter_ticket  soc  sop  sopp  sotono2  sotonoq   sp  stono2  swpp   wc  wep  \n",
       "Survived                                                                      \n",
       "0              5.0  1.0   3.0      2.0     13.0  1.0    10.0   NaN  9.0  2.0  \n",
       "1              1.0  NaN   NaN      NaN      2.0  NaN     8.0   2.0  1.0  1.0  \n",
       "\n",
       "[2 rows x 29 columns]"
      ]
     },
     "execution_count": 200,
     "metadata": {},
     "output_type": "execute_result"
    }
   ],
   "source": [
    "pd.pivot_table(data, index='Survived', columns='Letter_ticket', values='Ticket', aggfunc='count')"
   ]
  },
  {
   "cell_type": "markdown",
   "id": "announced-newsletter",
   "metadata": {},
   "source": [
    "Both of these parts of the ticket are predictive: Number can be compared for equality (tells us who was sharing a cabin, or traveling together on joint ticket) or compared for closeness (might allow us to fill in missing Cabin values, also using Pclass/ individual Fare). Letter part seems to tell us about who the issuing ticket office and/or embarkation point were."
   ]
  },
  {
   "cell_type": "markdown",
   "id": "german-browse",
   "metadata": {},
   "source": [
    "**Name feature**"
   ]
  },
  {
   "cell_type": "code",
   "execution_count": 201,
   "id": "hawaiian-chemical",
   "metadata": {},
   "outputs": [
    {
     "data": {
      "text/plain": [
       "0                              Braund, Mr. Owen Harris\n",
       "1    Cumings, Mrs. John Bradley (Florence Briggs Th...\n",
       "2                               Heikkinen, Miss. Laina\n",
       "3         Futrelle, Mrs. Jacques Heath (Lily May Peel)\n",
       "4                             Allen, Mr. William Henry\n",
       "Name: Name, dtype: object"
      ]
     },
     "execution_count": 201,
     "metadata": {},
     "output_type": "execute_result"
    }
   ],
   "source": [
    "data['Name'].head()"
   ]
  },
  {
   "cell_type": "markdown",
   "id": "robust-restriction",
   "metadata": {},
   "source": [
    "It makes sense to take into account the person status like Mr, Ms, Dr, Lady, etc. \n",
    "\n",
    "*The name's structure: Second_name, Status. + Name.*"
   ]
  },
  {
   "cell_type": "code",
   "execution_count": 202,
   "id": "agricultural-split",
   "metadata": {},
   "outputs": [
    {
     "data": {
      "text/plain": [
       "0"
      ]
     },
     "execution_count": 202,
     "metadata": {},
     "output_type": "execute_result"
    }
   ],
   "source": [
    "data['Name'].isna().sum()"
   ]
  },
  {
   "cell_type": "code",
   "execution_count": 203,
   "id": "golden-indiana",
   "metadata": {},
   "outputs": [
    {
     "data": {
      "text/plain": [
       " mr              517\n",
       " miss            182\n",
       " mrs             125\n",
       " master           40\n",
       " dr                7\n",
       " rev               6\n",
       " mlle              2\n",
       " major             2\n",
       " col               2\n",
       " sir               1\n",
       " capt              1\n",
       " lady              1\n",
       " don               1\n",
       " ms                1\n",
       " the countess      1\n",
       " mme               1\n",
       " jonkheer          1\n",
       "Name: Person_status, dtype: int64"
      ]
     },
     "execution_count": 203,
     "metadata": {},
     "output_type": "execute_result"
    }
   ],
   "source": [
    "data['Person_status'] = data['Name'].apply(lambda x: x[x.find(', ') + 1: x.find('. ')].lower())\n",
    "data['Person_status'].value_counts()"
   ]
  },
  {
   "cell_type": "code",
   "execution_count": 204,
   "id": "incident-survivor",
   "metadata": {},
   "outputs": [],
   "source": [
    "data = data.drop(columns=['Name', 'Ticket'])"
   ]
  },
  {
   "cell_type": "code",
   "execution_count": 205,
   "id": "prepared-latin",
   "metadata": {},
   "outputs": [],
   "source": [
    "def handle_features(data):\n",
    "    '''\n",
    "    This is a function that implements handing data features.\n",
    "    Returns a dataframe with cleared and transformed features.\n",
    "    '''\n",
    "    \n",
    "    # Handle 'Cabin' feature\n",
    "    data['Cabin_multiple'] = data['Cabin'].apply(lambda x: 0 if pd.isna(x) else len(x.split(' ')))\n",
    "    data['Cabin_level'] = data['Cabin'].apply(lambda x: str(x)[0])\n",
    "    \n",
    "    # Handle 'Ticket' feature\n",
    "    data['Numeric_ticket'] = data['Ticket'].apply(lambda x: x if x.isnumeric() else 0)\n",
    "    data['Letter_ticket'] = data['Ticket'].apply(lambda x: ''.join(x.split(' ')[:-1])\n",
    "                                             .replace('.', '')\n",
    "                                             .replace('/', '').lower() if len(x.split(' ')[:-1]) > 0 else 0)\n",
    "    \n",
    "    # Handle 'Name' feature\n",
    "    data['Person_status'] = data['Name'].apply(lambda x: x[x.find(', ') + 1: x.find('. ')].lower())\n",
    "    data['Person_status'].value_counts()\n",
    "    \n",
    "    data = data.drop(columns=['Name', 'Ticket', 'Cabin'])\n",
    "    return data"
   ]
  },
  {
   "cell_type": "markdown",
   "id": "elementary-group",
   "metadata": {},
   "source": [
    "## Data cleaning"
   ]
  },
  {
   "cell_type": "markdown",
   "id": "located-correspondence",
   "metadata": {},
   "source": [
    "**Dropping NaNs**"
   ]
  },
  {
   "cell_type": "code",
   "execution_count": 206,
   "id": "placed-meaning",
   "metadata": {},
   "outputs": [
    {
     "data": {
      "text/plain": [
       "PassengerId         0\n",
       "Survived            0\n",
       "Pclass              0\n",
       "Sex                 0\n",
       "Age               177\n",
       "SibSp               0\n",
       "Parch               0\n",
       "Fare                0\n",
       "Embarked            2\n",
       "Cabin_multiple      0\n",
       "Cabin_level         0\n",
       "Numeric_ticket      0\n",
       "Letter_ticket       0\n",
       "Person_status       0\n",
       "dtype: int64"
      ]
     },
     "execution_count": 206,
     "metadata": {},
     "output_type": "execute_result"
    }
   ],
   "source": [
    "data.isna().sum()"
   ]
  },
  {
   "cell_type": "markdown",
   "id": "second-tanzania",
   "metadata": {},
   "source": [
    "Let's drop 2 rows ***'Embarked':***"
   ]
  },
  {
   "cell_type": "code",
   "execution_count": 207,
   "id": "protected-martin",
   "metadata": {},
   "outputs": [],
   "source": [
    "data.dropna(subset=['Embarked'], inplace=True)"
   ]
  },
  {
   "cell_type": "code",
   "execution_count": 208,
   "id": "genuine-transcription",
   "metadata": {},
   "outputs": [
    {
     "data": {
      "text/plain": [
       "PassengerId         0\n",
       "Survived            0\n",
       "Pclass              0\n",
       "Sex                 0\n",
       "Age               177\n",
       "SibSp               0\n",
       "Parch               0\n",
       "Fare                0\n",
       "Embarked            0\n",
       "Cabin_multiple      0\n",
       "Cabin_level         0\n",
       "Numeric_ticket      0\n",
       "Letter_ticket       0\n",
       "Person_status       0\n",
       "dtype: int64"
      ]
     },
     "execution_count": 208,
     "metadata": {},
     "output_type": "execute_result"
    }
   ],
   "source": [
    "data.isna().sum()"
   ]
  },
  {
   "cell_type": "markdown",
   "id": "supreme-solution",
   "metadata": {},
   "source": [
    "Next, we will handle empty Age values. Let's replace them with mean value:"
   ]
  },
  {
   "cell_type": "code",
   "execution_count": 209,
   "id": "decent-reminder",
   "metadata": {},
   "outputs": [],
   "source": [
    "data['Age'] = data.fillna(data['Age'].mean())"
   ]
  },
  {
   "cell_type": "code",
   "execution_count": 210,
   "id": "iraqi-viking",
   "metadata": {},
   "outputs": [
    {
     "data": {
      "text/plain": [
       "PassengerId       0\n",
       "Survived          0\n",
       "Pclass            0\n",
       "Sex               0\n",
       "Age               0\n",
       "SibSp             0\n",
       "Parch             0\n",
       "Fare              0\n",
       "Embarked          0\n",
       "Cabin_multiple    0\n",
       "Cabin_level       0\n",
       "Numeric_ticket    0\n",
       "Letter_ticket     0\n",
       "Person_status     0\n",
       "dtype: int64"
      ]
     },
     "execution_count": 210,
     "metadata": {},
     "output_type": "execute_result"
    }
   ],
   "source": [
    "data.isna().sum()"
   ]
  },
  {
   "cell_type": "code",
   "execution_count": 211,
   "id": "alert-services",
   "metadata": {},
   "outputs": [],
   "source": [
    "def clear_nans(data):\n",
    "    '''\n",
    "    This function aggregates all the actions for data handling missed values.\n",
    "    Returns a dataframe without NaNs\n",
    "    '''\n",
    "    data.dropna(subset=['Embarked'], inplace=True)\n",
    "    data['Age'] = data.fillna(data['Age'].mean())\n",
    "    return data"
   ]
  },
  {
   "cell_type": "markdown",
   "id": "stopped-optimum",
   "metadata": {},
   "source": [
    "**Normalizing data**"
   ]
  },
  {
   "cell_type": "markdown",
   "id": "defensive-objective",
   "metadata": {},
   "source": [
    "Let's investigave next features: Sibsp, Fare"
   ]
  },
  {
   "cell_type": "code",
   "execution_count": 212,
   "id": "bright-criterion",
   "metadata": {},
   "outputs": [
    {
     "data": {
      "text/plain": [
       "0    606\n",
       "1    209\n",
       "2     28\n",
       "4     18\n",
       "3     16\n",
       "8      7\n",
       "5      5\n",
       "Name: SibSp, dtype: int64"
      ]
     },
     "execution_count": 212,
     "metadata": {},
     "output_type": "execute_result"
    }
   ],
   "source": [
    "data['SibSp'].value_counts()"
   ]
  },
  {
   "cell_type": "code",
   "execution_count": 213,
   "id": "dynamic-cleanup",
   "metadata": {},
   "outputs": [],
   "source": [
    "data = data.drop(columns='Fare')"
   ]
  },
  {
   "cell_type": "markdown",
   "id": "average-senior",
   "metadata": {},
   "source": [
    "Pclass - is a categorical variable. We will preprocess it and convert into dummy/indicator variable."
   ]
  },
  {
   "cell_type": "code",
   "execution_count": 214,
   "id": "arranged-forum",
   "metadata": {},
   "outputs": [
    {
     "data": {
      "text/plain": [
       "3    491\n",
       "1    214\n",
       "2    184\n",
       "Name: Pclass, dtype: int64"
      ]
     },
     "execution_count": 214,
     "metadata": {},
     "output_type": "execute_result"
    }
   ],
   "source": [
    "data['Pclass'].value_counts()"
   ]
  },
  {
   "cell_type": "code",
   "execution_count": 215,
   "id": "nutritional-devon",
   "metadata": {
    "scrolled": true
   },
   "outputs": [
    {
     "data": {
      "text/html": [
       "<div>\n",
       "<style scoped>\n",
       "    .dataframe tbody tr th:only-of-type {\n",
       "        vertical-align: middle;\n",
       "    }\n",
       "\n",
       "    .dataframe tbody tr th {\n",
       "        vertical-align: top;\n",
       "    }\n",
       "\n",
       "    .dataframe thead th {\n",
       "        text-align: right;\n",
       "    }\n",
       "</style>\n",
       "<table border=\"1\" class=\"dataframe\">\n",
       "  <thead>\n",
       "    <tr style=\"text-align: right;\">\n",
       "      <th></th>\n",
       "      <th>PassengerId</th>\n",
       "      <th>Survived</th>\n",
       "      <th>Pclass</th>\n",
       "      <th>Sex</th>\n",
       "      <th>Age</th>\n",
       "      <th>SibSp</th>\n",
       "      <th>Parch</th>\n",
       "      <th>Embarked</th>\n",
       "      <th>Cabin_multiple</th>\n",
       "      <th>Cabin_level</th>\n",
       "      <th>Numeric_ticket</th>\n",
       "      <th>Letter_ticket</th>\n",
       "      <th>Person_status</th>\n",
       "    </tr>\n",
       "  </thead>\n",
       "  <tbody>\n",
       "    <tr>\n",
       "      <th>0</th>\n",
       "      <td>1</td>\n",
       "      <td>0</td>\n",
       "      <td>3</td>\n",
       "      <td>male</td>\n",
       "      <td>1</td>\n",
       "      <td>1</td>\n",
       "      <td>0</td>\n",
       "      <td>S</td>\n",
       "      <td>0</td>\n",
       "      <td>n</td>\n",
       "      <td>0</td>\n",
       "      <td>a5</td>\n",
       "      <td>mr</td>\n",
       "    </tr>\n",
       "    <tr>\n",
       "      <th>1</th>\n",
       "      <td>2</td>\n",
       "      <td>1</td>\n",
       "      <td>1</td>\n",
       "      <td>female</td>\n",
       "      <td>2</td>\n",
       "      <td>1</td>\n",
       "      <td>0</td>\n",
       "      <td>C</td>\n",
       "      <td>1</td>\n",
       "      <td>C</td>\n",
       "      <td>0</td>\n",
       "      <td>pc</td>\n",
       "      <td>mrs</td>\n",
       "    </tr>\n",
       "    <tr>\n",
       "      <th>2</th>\n",
       "      <td>3</td>\n",
       "      <td>1</td>\n",
       "      <td>3</td>\n",
       "      <td>female</td>\n",
       "      <td>3</td>\n",
       "      <td>0</td>\n",
       "      <td>0</td>\n",
       "      <td>S</td>\n",
       "      <td>0</td>\n",
       "      <td>n</td>\n",
       "      <td>0</td>\n",
       "      <td>stono2</td>\n",
       "      <td>miss</td>\n",
       "    </tr>\n",
       "    <tr>\n",
       "      <th>3</th>\n",
       "      <td>4</td>\n",
       "      <td>1</td>\n",
       "      <td>1</td>\n",
       "      <td>female</td>\n",
       "      <td>4</td>\n",
       "      <td>1</td>\n",
       "      <td>0</td>\n",
       "      <td>S</td>\n",
       "      <td>1</td>\n",
       "      <td>C</td>\n",
       "      <td>113803</td>\n",
       "      <td>0</td>\n",
       "      <td>mrs</td>\n",
       "    </tr>\n",
       "    <tr>\n",
       "      <th>4</th>\n",
       "      <td>5</td>\n",
       "      <td>0</td>\n",
       "      <td>3</td>\n",
       "      <td>male</td>\n",
       "      <td>5</td>\n",
       "      <td>0</td>\n",
       "      <td>0</td>\n",
       "      <td>S</td>\n",
       "      <td>0</td>\n",
       "      <td>n</td>\n",
       "      <td>373450</td>\n",
       "      <td>0</td>\n",
       "      <td>mr</td>\n",
       "    </tr>\n",
       "    <tr>\n",
       "      <th>5</th>\n",
       "      <td>6</td>\n",
       "      <td>0</td>\n",
       "      <td>3</td>\n",
       "      <td>male</td>\n",
       "      <td>6</td>\n",
       "      <td>0</td>\n",
       "      <td>0</td>\n",
       "      <td>Q</td>\n",
       "      <td>0</td>\n",
       "      <td>n</td>\n",
       "      <td>330877</td>\n",
       "      <td>0</td>\n",
       "      <td>mr</td>\n",
       "    </tr>\n",
       "    <tr>\n",
       "      <th>6</th>\n",
       "      <td>7</td>\n",
       "      <td>0</td>\n",
       "      <td>1</td>\n",
       "      <td>male</td>\n",
       "      <td>7</td>\n",
       "      <td>0</td>\n",
       "      <td>0</td>\n",
       "      <td>S</td>\n",
       "      <td>1</td>\n",
       "      <td>E</td>\n",
       "      <td>17463</td>\n",
       "      <td>0</td>\n",
       "      <td>mr</td>\n",
       "    </tr>\n",
       "    <tr>\n",
       "      <th>7</th>\n",
       "      <td>8</td>\n",
       "      <td>0</td>\n",
       "      <td>3</td>\n",
       "      <td>male</td>\n",
       "      <td>8</td>\n",
       "      <td>3</td>\n",
       "      <td>1</td>\n",
       "      <td>S</td>\n",
       "      <td>0</td>\n",
       "      <td>n</td>\n",
       "      <td>349909</td>\n",
       "      <td>0</td>\n",
       "      <td>master</td>\n",
       "    </tr>\n",
       "    <tr>\n",
       "      <th>8</th>\n",
       "      <td>9</td>\n",
       "      <td>1</td>\n",
       "      <td>3</td>\n",
       "      <td>female</td>\n",
       "      <td>9</td>\n",
       "      <td>0</td>\n",
       "      <td>2</td>\n",
       "      <td>S</td>\n",
       "      <td>0</td>\n",
       "      <td>n</td>\n",
       "      <td>347742</td>\n",
       "      <td>0</td>\n",
       "      <td>mrs</td>\n",
       "    </tr>\n",
       "    <tr>\n",
       "      <th>9</th>\n",
       "      <td>10</td>\n",
       "      <td>1</td>\n",
       "      <td>2</td>\n",
       "      <td>female</td>\n",
       "      <td>10</td>\n",
       "      <td>1</td>\n",
       "      <td>0</td>\n",
       "      <td>C</td>\n",
       "      <td>0</td>\n",
       "      <td>n</td>\n",
       "      <td>237736</td>\n",
       "      <td>0</td>\n",
       "      <td>mrs</td>\n",
       "    </tr>\n",
       "    <tr>\n",
       "      <th>10</th>\n",
       "      <td>11</td>\n",
       "      <td>1</td>\n",
       "      <td>3</td>\n",
       "      <td>female</td>\n",
       "      <td>11</td>\n",
       "      <td>1</td>\n",
       "      <td>1</td>\n",
       "      <td>S</td>\n",
       "      <td>1</td>\n",
       "      <td>G</td>\n",
       "      <td>0</td>\n",
       "      <td>pp</td>\n",
       "      <td>miss</td>\n",
       "    </tr>\n",
       "    <tr>\n",
       "      <th>11</th>\n",
       "      <td>12</td>\n",
       "      <td>1</td>\n",
       "      <td>1</td>\n",
       "      <td>female</td>\n",
       "      <td>12</td>\n",
       "      <td>0</td>\n",
       "      <td>0</td>\n",
       "      <td>S</td>\n",
       "      <td>1</td>\n",
       "      <td>C</td>\n",
       "      <td>113783</td>\n",
       "      <td>0</td>\n",
       "      <td>miss</td>\n",
       "    </tr>\n",
       "    <tr>\n",
       "      <th>12</th>\n",
       "      <td>13</td>\n",
       "      <td>0</td>\n",
       "      <td>3</td>\n",
       "      <td>male</td>\n",
       "      <td>13</td>\n",
       "      <td>0</td>\n",
       "      <td>0</td>\n",
       "      <td>S</td>\n",
       "      <td>0</td>\n",
       "      <td>n</td>\n",
       "      <td>0</td>\n",
       "      <td>a5</td>\n",
       "      <td>mr</td>\n",
       "    </tr>\n",
       "    <tr>\n",
       "      <th>13</th>\n",
       "      <td>14</td>\n",
       "      <td>0</td>\n",
       "      <td>3</td>\n",
       "      <td>male</td>\n",
       "      <td>14</td>\n",
       "      <td>1</td>\n",
       "      <td>5</td>\n",
       "      <td>S</td>\n",
       "      <td>0</td>\n",
       "      <td>n</td>\n",
       "      <td>347082</td>\n",
       "      <td>0</td>\n",
       "      <td>mr</td>\n",
       "    </tr>\n",
       "    <tr>\n",
       "      <th>14</th>\n",
       "      <td>15</td>\n",
       "      <td>0</td>\n",
       "      <td>3</td>\n",
       "      <td>female</td>\n",
       "      <td>15</td>\n",
       "      <td>0</td>\n",
       "      <td>0</td>\n",
       "      <td>S</td>\n",
       "      <td>0</td>\n",
       "      <td>n</td>\n",
       "      <td>350406</td>\n",
       "      <td>0</td>\n",
       "      <td>miss</td>\n",
       "    </tr>\n",
       "    <tr>\n",
       "      <th>15</th>\n",
       "      <td>16</td>\n",
       "      <td>1</td>\n",
       "      <td>2</td>\n",
       "      <td>female</td>\n",
       "      <td>16</td>\n",
       "      <td>0</td>\n",
       "      <td>0</td>\n",
       "      <td>S</td>\n",
       "      <td>0</td>\n",
       "      <td>n</td>\n",
       "      <td>248706</td>\n",
       "      <td>0</td>\n",
       "      <td>mrs</td>\n",
       "    </tr>\n",
       "    <tr>\n",
       "      <th>16</th>\n",
       "      <td>17</td>\n",
       "      <td>0</td>\n",
       "      <td>3</td>\n",
       "      <td>male</td>\n",
       "      <td>17</td>\n",
       "      <td>4</td>\n",
       "      <td>1</td>\n",
       "      <td>Q</td>\n",
       "      <td>0</td>\n",
       "      <td>n</td>\n",
       "      <td>382652</td>\n",
       "      <td>0</td>\n",
       "      <td>master</td>\n",
       "    </tr>\n",
       "    <tr>\n",
       "      <th>17</th>\n",
       "      <td>18</td>\n",
       "      <td>1</td>\n",
       "      <td>2</td>\n",
       "      <td>male</td>\n",
       "      <td>18</td>\n",
       "      <td>0</td>\n",
       "      <td>0</td>\n",
       "      <td>S</td>\n",
       "      <td>0</td>\n",
       "      <td>n</td>\n",
       "      <td>244373</td>\n",
       "      <td>0</td>\n",
       "      <td>mr</td>\n",
       "    </tr>\n",
       "    <tr>\n",
       "      <th>18</th>\n",
       "      <td>19</td>\n",
       "      <td>0</td>\n",
       "      <td>3</td>\n",
       "      <td>female</td>\n",
       "      <td>19</td>\n",
       "      <td>1</td>\n",
       "      <td>0</td>\n",
       "      <td>S</td>\n",
       "      <td>0</td>\n",
       "      <td>n</td>\n",
       "      <td>345763</td>\n",
       "      <td>0</td>\n",
       "      <td>mrs</td>\n",
       "    </tr>\n",
       "    <tr>\n",
       "      <th>19</th>\n",
       "      <td>20</td>\n",
       "      <td>1</td>\n",
       "      <td>3</td>\n",
       "      <td>female</td>\n",
       "      <td>20</td>\n",
       "      <td>0</td>\n",
       "      <td>0</td>\n",
       "      <td>C</td>\n",
       "      <td>0</td>\n",
       "      <td>n</td>\n",
       "      <td>2649</td>\n",
       "      <td>0</td>\n",
       "      <td>mrs</td>\n",
       "    </tr>\n",
       "    <tr>\n",
       "      <th>20</th>\n",
       "      <td>21</td>\n",
       "      <td>0</td>\n",
       "      <td>2</td>\n",
       "      <td>male</td>\n",
       "      <td>21</td>\n",
       "      <td>0</td>\n",
       "      <td>0</td>\n",
       "      <td>S</td>\n",
       "      <td>0</td>\n",
       "      <td>n</td>\n",
       "      <td>239865</td>\n",
       "      <td>0</td>\n",
       "      <td>mr</td>\n",
       "    </tr>\n",
       "    <tr>\n",
       "      <th>21</th>\n",
       "      <td>22</td>\n",
       "      <td>1</td>\n",
       "      <td>2</td>\n",
       "      <td>male</td>\n",
       "      <td>22</td>\n",
       "      <td>0</td>\n",
       "      <td>0</td>\n",
       "      <td>S</td>\n",
       "      <td>1</td>\n",
       "      <td>D</td>\n",
       "      <td>248698</td>\n",
       "      <td>0</td>\n",
       "      <td>mr</td>\n",
       "    </tr>\n",
       "    <tr>\n",
       "      <th>22</th>\n",
       "      <td>23</td>\n",
       "      <td>1</td>\n",
       "      <td>3</td>\n",
       "      <td>female</td>\n",
       "      <td>23</td>\n",
       "      <td>0</td>\n",
       "      <td>0</td>\n",
       "      <td>Q</td>\n",
       "      <td>0</td>\n",
       "      <td>n</td>\n",
       "      <td>330923</td>\n",
       "      <td>0</td>\n",
       "      <td>miss</td>\n",
       "    </tr>\n",
       "    <tr>\n",
       "      <th>23</th>\n",
       "      <td>24</td>\n",
       "      <td>1</td>\n",
       "      <td>1</td>\n",
       "      <td>male</td>\n",
       "      <td>24</td>\n",
       "      <td>0</td>\n",
       "      <td>0</td>\n",
       "      <td>S</td>\n",
       "      <td>1</td>\n",
       "      <td>A</td>\n",
       "      <td>113788</td>\n",
       "      <td>0</td>\n",
       "      <td>mr</td>\n",
       "    </tr>\n",
       "    <tr>\n",
       "      <th>24</th>\n",
       "      <td>25</td>\n",
       "      <td>0</td>\n",
       "      <td>3</td>\n",
       "      <td>female</td>\n",
       "      <td>25</td>\n",
       "      <td>3</td>\n",
       "      <td>1</td>\n",
       "      <td>S</td>\n",
       "      <td>0</td>\n",
       "      <td>n</td>\n",
       "      <td>349909</td>\n",
       "      <td>0</td>\n",
       "      <td>miss</td>\n",
       "    </tr>\n",
       "    <tr>\n",
       "      <th>25</th>\n",
       "      <td>26</td>\n",
       "      <td>1</td>\n",
       "      <td>3</td>\n",
       "      <td>female</td>\n",
       "      <td>26</td>\n",
       "      <td>1</td>\n",
       "      <td>5</td>\n",
       "      <td>S</td>\n",
       "      <td>0</td>\n",
       "      <td>n</td>\n",
       "      <td>347077</td>\n",
       "      <td>0</td>\n",
       "      <td>mrs</td>\n",
       "    </tr>\n",
       "    <tr>\n",
       "      <th>26</th>\n",
       "      <td>27</td>\n",
       "      <td>0</td>\n",
       "      <td>3</td>\n",
       "      <td>male</td>\n",
       "      <td>27</td>\n",
       "      <td>0</td>\n",
       "      <td>0</td>\n",
       "      <td>C</td>\n",
       "      <td>0</td>\n",
       "      <td>n</td>\n",
       "      <td>2631</td>\n",
       "      <td>0</td>\n",
       "      <td>mr</td>\n",
       "    </tr>\n",
       "    <tr>\n",
       "      <th>27</th>\n",
       "      <td>28</td>\n",
       "      <td>0</td>\n",
       "      <td>1</td>\n",
       "      <td>male</td>\n",
       "      <td>28</td>\n",
       "      <td>3</td>\n",
       "      <td>2</td>\n",
       "      <td>S</td>\n",
       "      <td>3</td>\n",
       "      <td>C</td>\n",
       "      <td>19950</td>\n",
       "      <td>0</td>\n",
       "      <td>mr</td>\n",
       "    </tr>\n",
       "    <tr>\n",
       "      <th>28</th>\n",
       "      <td>29</td>\n",
       "      <td>1</td>\n",
       "      <td>3</td>\n",
       "      <td>female</td>\n",
       "      <td>29</td>\n",
       "      <td>0</td>\n",
       "      <td>0</td>\n",
       "      <td>Q</td>\n",
       "      <td>0</td>\n",
       "      <td>n</td>\n",
       "      <td>330959</td>\n",
       "      <td>0</td>\n",
       "      <td>miss</td>\n",
       "    </tr>\n",
       "    <tr>\n",
       "      <th>29</th>\n",
       "      <td>30</td>\n",
       "      <td>0</td>\n",
       "      <td>3</td>\n",
       "      <td>male</td>\n",
       "      <td>30</td>\n",
       "      <td>0</td>\n",
       "      <td>0</td>\n",
       "      <td>S</td>\n",
       "      <td>0</td>\n",
       "      <td>n</td>\n",
       "      <td>349216</td>\n",
       "      <td>0</td>\n",
       "      <td>mr</td>\n",
       "    </tr>\n",
       "    <tr>\n",
       "      <th>30</th>\n",
       "      <td>31</td>\n",
       "      <td>0</td>\n",
       "      <td>1</td>\n",
       "      <td>male</td>\n",
       "      <td>31</td>\n",
       "      <td>0</td>\n",
       "      <td>0</td>\n",
       "      <td>C</td>\n",
       "      <td>0</td>\n",
       "      <td>n</td>\n",
       "      <td>0</td>\n",
       "      <td>pc</td>\n",
       "      <td>don</td>\n",
       "    </tr>\n",
       "    <tr>\n",
       "      <th>31</th>\n",
       "      <td>32</td>\n",
       "      <td>1</td>\n",
       "      <td>1</td>\n",
       "      <td>female</td>\n",
       "      <td>32</td>\n",
       "      <td>1</td>\n",
       "      <td>0</td>\n",
       "      <td>C</td>\n",
       "      <td>1</td>\n",
       "      <td>B</td>\n",
       "      <td>0</td>\n",
       "      <td>pc</td>\n",
       "      <td>mrs</td>\n",
       "    </tr>\n",
       "    <tr>\n",
       "      <th>32</th>\n",
       "      <td>33</td>\n",
       "      <td>1</td>\n",
       "      <td>3</td>\n",
       "      <td>female</td>\n",
       "      <td>33</td>\n",
       "      <td>0</td>\n",
       "      <td>0</td>\n",
       "      <td>Q</td>\n",
       "      <td>0</td>\n",
       "      <td>n</td>\n",
       "      <td>335677</td>\n",
       "      <td>0</td>\n",
       "      <td>miss</td>\n",
       "    </tr>\n",
       "    <tr>\n",
       "      <th>33</th>\n",
       "      <td>34</td>\n",
       "      <td>0</td>\n",
       "      <td>2</td>\n",
       "      <td>male</td>\n",
       "      <td>34</td>\n",
       "      <td>0</td>\n",
       "      <td>0</td>\n",
       "      <td>S</td>\n",
       "      <td>0</td>\n",
       "      <td>n</td>\n",
       "      <td>0</td>\n",
       "      <td>ca</td>\n",
       "      <td>mr</td>\n",
       "    </tr>\n",
       "    <tr>\n",
       "      <th>34</th>\n",
       "      <td>35</td>\n",
       "      <td>0</td>\n",
       "      <td>1</td>\n",
       "      <td>male</td>\n",
       "      <td>35</td>\n",
       "      <td>1</td>\n",
       "      <td>0</td>\n",
       "      <td>C</td>\n",
       "      <td>0</td>\n",
       "      <td>n</td>\n",
       "      <td>0</td>\n",
       "      <td>pc</td>\n",
       "      <td>mr</td>\n",
       "    </tr>\n",
       "    <tr>\n",
       "      <th>35</th>\n",
       "      <td>36</td>\n",
       "      <td>0</td>\n",
       "      <td>1</td>\n",
       "      <td>male</td>\n",
       "      <td>36</td>\n",
       "      <td>1</td>\n",
       "      <td>0</td>\n",
       "      <td>S</td>\n",
       "      <td>0</td>\n",
       "      <td>n</td>\n",
       "      <td>113789</td>\n",
       "      <td>0</td>\n",
       "      <td>mr</td>\n",
       "    </tr>\n",
       "    <tr>\n",
       "      <th>36</th>\n",
       "      <td>37</td>\n",
       "      <td>1</td>\n",
       "      <td>3</td>\n",
       "      <td>male</td>\n",
       "      <td>37</td>\n",
       "      <td>0</td>\n",
       "      <td>0</td>\n",
       "      <td>C</td>\n",
       "      <td>0</td>\n",
       "      <td>n</td>\n",
       "      <td>2677</td>\n",
       "      <td>0</td>\n",
       "      <td>mr</td>\n",
       "    </tr>\n",
       "    <tr>\n",
       "      <th>37</th>\n",
       "      <td>38</td>\n",
       "      <td>0</td>\n",
       "      <td>3</td>\n",
       "      <td>male</td>\n",
       "      <td>38</td>\n",
       "      <td>0</td>\n",
       "      <td>0</td>\n",
       "      <td>S</td>\n",
       "      <td>0</td>\n",
       "      <td>n</td>\n",
       "      <td>0</td>\n",
       "      <td>a5</td>\n",
       "      <td>mr</td>\n",
       "    </tr>\n",
       "    <tr>\n",
       "      <th>38</th>\n",
       "      <td>39</td>\n",
       "      <td>0</td>\n",
       "      <td>3</td>\n",
       "      <td>female</td>\n",
       "      <td>39</td>\n",
       "      <td>2</td>\n",
       "      <td>0</td>\n",
       "      <td>S</td>\n",
       "      <td>0</td>\n",
       "      <td>n</td>\n",
       "      <td>345764</td>\n",
       "      <td>0</td>\n",
       "      <td>miss</td>\n",
       "    </tr>\n",
       "    <tr>\n",
       "      <th>39</th>\n",
       "      <td>40</td>\n",
       "      <td>1</td>\n",
       "      <td>3</td>\n",
       "      <td>female</td>\n",
       "      <td>40</td>\n",
       "      <td>1</td>\n",
       "      <td>0</td>\n",
       "      <td>C</td>\n",
       "      <td>0</td>\n",
       "      <td>n</td>\n",
       "      <td>2651</td>\n",
       "      <td>0</td>\n",
       "      <td>miss</td>\n",
       "    </tr>\n",
       "    <tr>\n",
       "      <th>40</th>\n",
       "      <td>41</td>\n",
       "      <td>0</td>\n",
       "      <td>3</td>\n",
       "      <td>female</td>\n",
       "      <td>41</td>\n",
       "      <td>1</td>\n",
       "      <td>0</td>\n",
       "      <td>S</td>\n",
       "      <td>0</td>\n",
       "      <td>n</td>\n",
       "      <td>7546</td>\n",
       "      <td>0</td>\n",
       "      <td>mrs</td>\n",
       "    </tr>\n",
       "    <tr>\n",
       "      <th>41</th>\n",
       "      <td>42</td>\n",
       "      <td>0</td>\n",
       "      <td>2</td>\n",
       "      <td>female</td>\n",
       "      <td>42</td>\n",
       "      <td>1</td>\n",
       "      <td>0</td>\n",
       "      <td>S</td>\n",
       "      <td>0</td>\n",
       "      <td>n</td>\n",
       "      <td>11668</td>\n",
       "      <td>0</td>\n",
       "      <td>mrs</td>\n",
       "    </tr>\n",
       "    <tr>\n",
       "      <th>42</th>\n",
       "      <td>43</td>\n",
       "      <td>0</td>\n",
       "      <td>3</td>\n",
       "      <td>male</td>\n",
       "      <td>43</td>\n",
       "      <td>0</td>\n",
       "      <td>0</td>\n",
       "      <td>C</td>\n",
       "      <td>0</td>\n",
       "      <td>n</td>\n",
       "      <td>349253</td>\n",
       "      <td>0</td>\n",
       "      <td>mr</td>\n",
       "    </tr>\n",
       "    <tr>\n",
       "      <th>43</th>\n",
       "      <td>44</td>\n",
       "      <td>1</td>\n",
       "      <td>2</td>\n",
       "      <td>female</td>\n",
       "      <td>44</td>\n",
       "      <td>1</td>\n",
       "      <td>2</td>\n",
       "      <td>C</td>\n",
       "      <td>0</td>\n",
       "      <td>n</td>\n",
       "      <td>0</td>\n",
       "      <td>scparis</td>\n",
       "      <td>miss</td>\n",
       "    </tr>\n",
       "    <tr>\n",
       "      <th>44</th>\n",
       "      <td>45</td>\n",
       "      <td>1</td>\n",
       "      <td>3</td>\n",
       "      <td>female</td>\n",
       "      <td>45</td>\n",
       "      <td>0</td>\n",
       "      <td>0</td>\n",
       "      <td>Q</td>\n",
       "      <td>0</td>\n",
       "      <td>n</td>\n",
       "      <td>330958</td>\n",
       "      <td>0</td>\n",
       "      <td>miss</td>\n",
       "    </tr>\n",
       "    <tr>\n",
       "      <th>45</th>\n",
       "      <td>46</td>\n",
       "      <td>0</td>\n",
       "      <td>3</td>\n",
       "      <td>male</td>\n",
       "      <td>46</td>\n",
       "      <td>0</td>\n",
       "      <td>0</td>\n",
       "      <td>S</td>\n",
       "      <td>0</td>\n",
       "      <td>n</td>\n",
       "      <td>0</td>\n",
       "      <td>sca4</td>\n",
       "      <td>mr</td>\n",
       "    </tr>\n",
       "    <tr>\n",
       "      <th>46</th>\n",
       "      <td>47</td>\n",
       "      <td>0</td>\n",
       "      <td>3</td>\n",
       "      <td>male</td>\n",
       "      <td>47</td>\n",
       "      <td>1</td>\n",
       "      <td>0</td>\n",
       "      <td>Q</td>\n",
       "      <td>0</td>\n",
       "      <td>n</td>\n",
       "      <td>370371</td>\n",
       "      <td>0</td>\n",
       "      <td>mr</td>\n",
       "    </tr>\n",
       "    <tr>\n",
       "      <th>47</th>\n",
       "      <td>48</td>\n",
       "      <td>1</td>\n",
       "      <td>3</td>\n",
       "      <td>female</td>\n",
       "      <td>48</td>\n",
       "      <td>0</td>\n",
       "      <td>0</td>\n",
       "      <td>Q</td>\n",
       "      <td>0</td>\n",
       "      <td>n</td>\n",
       "      <td>14311</td>\n",
       "      <td>0</td>\n",
       "      <td>miss</td>\n",
       "    </tr>\n",
       "    <tr>\n",
       "      <th>48</th>\n",
       "      <td>49</td>\n",
       "      <td>0</td>\n",
       "      <td>3</td>\n",
       "      <td>male</td>\n",
       "      <td>49</td>\n",
       "      <td>2</td>\n",
       "      <td>0</td>\n",
       "      <td>C</td>\n",
       "      <td>0</td>\n",
       "      <td>n</td>\n",
       "      <td>2662</td>\n",
       "      <td>0</td>\n",
       "      <td>mr</td>\n",
       "    </tr>\n",
       "    <tr>\n",
       "      <th>49</th>\n",
       "      <td>50</td>\n",
       "      <td>0</td>\n",
       "      <td>3</td>\n",
       "      <td>female</td>\n",
       "      <td>50</td>\n",
       "      <td>1</td>\n",
       "      <td>0</td>\n",
       "      <td>S</td>\n",
       "      <td>0</td>\n",
       "      <td>n</td>\n",
       "      <td>349237</td>\n",
       "      <td>0</td>\n",
       "      <td>mrs</td>\n",
       "    </tr>\n",
       "  </tbody>\n",
       "</table>\n",
       "</div>"
      ],
      "text/plain": [
       "    PassengerId  Survived  Pclass     Sex Age  SibSp  Parch Embarked  \\\n",
       "0             1         0       3    male   1      1      0        S   \n",
       "1             2         1       1  female   2      1      0        C   \n",
       "2             3         1       3  female   3      0      0        S   \n",
       "3             4         1       1  female   4      1      0        S   \n",
       "4             5         0       3    male   5      0      0        S   \n",
       "5             6         0       3    male   6      0      0        Q   \n",
       "6             7         0       1    male   7      0      0        S   \n",
       "7             8         0       3    male   8      3      1        S   \n",
       "8             9         1       3  female   9      0      2        S   \n",
       "9            10         1       2  female  10      1      0        C   \n",
       "10           11         1       3  female  11      1      1        S   \n",
       "11           12         1       1  female  12      0      0        S   \n",
       "12           13         0       3    male  13      0      0        S   \n",
       "13           14         0       3    male  14      1      5        S   \n",
       "14           15         0       3  female  15      0      0        S   \n",
       "15           16         1       2  female  16      0      0        S   \n",
       "16           17         0       3    male  17      4      1        Q   \n",
       "17           18         1       2    male  18      0      0        S   \n",
       "18           19         0       3  female  19      1      0        S   \n",
       "19           20         1       3  female  20      0      0        C   \n",
       "20           21         0       2    male  21      0      0        S   \n",
       "21           22         1       2    male  22      0      0        S   \n",
       "22           23         1       3  female  23      0      0        Q   \n",
       "23           24         1       1    male  24      0      0        S   \n",
       "24           25         0       3  female  25      3      1        S   \n",
       "25           26         1       3  female  26      1      5        S   \n",
       "26           27         0       3    male  27      0      0        C   \n",
       "27           28         0       1    male  28      3      2        S   \n",
       "28           29         1       3  female  29      0      0        Q   \n",
       "29           30         0       3    male  30      0      0        S   \n",
       "30           31         0       1    male  31      0      0        C   \n",
       "31           32         1       1  female  32      1      0        C   \n",
       "32           33         1       3  female  33      0      0        Q   \n",
       "33           34         0       2    male  34      0      0        S   \n",
       "34           35         0       1    male  35      1      0        C   \n",
       "35           36         0       1    male  36      1      0        S   \n",
       "36           37         1       3    male  37      0      0        C   \n",
       "37           38         0       3    male  38      0      0        S   \n",
       "38           39         0       3  female  39      2      0        S   \n",
       "39           40         1       3  female  40      1      0        C   \n",
       "40           41         0       3  female  41      1      0        S   \n",
       "41           42         0       2  female  42      1      0        S   \n",
       "42           43         0       3    male  43      0      0        C   \n",
       "43           44         1       2  female  44      1      2        C   \n",
       "44           45         1       3  female  45      0      0        Q   \n",
       "45           46         0       3    male  46      0      0        S   \n",
       "46           47         0       3    male  47      1      0        Q   \n",
       "47           48         1       3  female  48      0      0        Q   \n",
       "48           49         0       3    male  49      2      0        C   \n",
       "49           50         0       3  female  50      1      0        S   \n",
       "\n",
       "    Cabin_multiple Cabin_level Numeric_ticket Letter_ticket Person_status  \n",
       "0                0           n              0            a5            mr  \n",
       "1                1           C              0            pc           mrs  \n",
       "2                0           n              0        stono2          miss  \n",
       "3                1           C         113803             0           mrs  \n",
       "4                0           n         373450             0            mr  \n",
       "5                0           n         330877             0            mr  \n",
       "6                1           E          17463             0            mr  \n",
       "7                0           n         349909             0        master  \n",
       "8                0           n         347742             0           mrs  \n",
       "9                0           n         237736             0           mrs  \n",
       "10               1           G              0            pp          miss  \n",
       "11               1           C         113783             0          miss  \n",
       "12               0           n              0            a5            mr  \n",
       "13               0           n         347082             0            mr  \n",
       "14               0           n         350406             0          miss  \n",
       "15               0           n         248706             0           mrs  \n",
       "16               0           n         382652             0        master  \n",
       "17               0           n         244373             0            mr  \n",
       "18               0           n         345763             0           mrs  \n",
       "19               0           n           2649             0           mrs  \n",
       "20               0           n         239865             0            mr  \n",
       "21               1           D         248698             0            mr  \n",
       "22               0           n         330923             0          miss  \n",
       "23               1           A         113788             0            mr  \n",
       "24               0           n         349909             0          miss  \n",
       "25               0           n         347077             0           mrs  \n",
       "26               0           n           2631             0            mr  \n",
       "27               3           C          19950             0            mr  \n",
       "28               0           n         330959             0          miss  \n",
       "29               0           n         349216             0            mr  \n",
       "30               0           n              0            pc           don  \n",
       "31               1           B              0            pc           mrs  \n",
       "32               0           n         335677             0          miss  \n",
       "33               0           n              0            ca            mr  \n",
       "34               0           n              0            pc            mr  \n",
       "35               0           n         113789             0            mr  \n",
       "36               0           n           2677             0            mr  \n",
       "37               0           n              0            a5            mr  \n",
       "38               0           n         345764             0          miss  \n",
       "39               0           n           2651             0          miss  \n",
       "40               0           n           7546             0           mrs  \n",
       "41               0           n          11668             0           mrs  \n",
       "42               0           n         349253             0            mr  \n",
       "43               0           n              0       scparis          miss  \n",
       "44               0           n         330958             0          miss  \n",
       "45               0           n              0          sca4            mr  \n",
       "46               0           n         370371             0            mr  \n",
       "47               0           n          14311             0          miss  \n",
       "48               0           n           2662             0            mr  \n",
       "49               0           n         349237             0           mrs  "
      ]
     },
     "execution_count": 215,
     "metadata": {},
     "output_type": "execute_result"
    }
   ],
   "source": [
    "data.head(50)"
   ]
  },
  {
   "cell_type": "code",
   "execution_count": 216,
   "id": "tender-vessel",
   "metadata": {},
   "outputs": [],
   "source": [
    "data['Sex'] = data['Sex'].apply(lambda x: 1 if x == 'male' else 0)"
   ]
  },
  {
   "cell_type": "code",
   "execution_count": 217,
   "id": "floppy-burlington",
   "metadata": {},
   "outputs": [],
   "source": [
    "data['Letter_ticket'] = data['Letter_ticket'].astype(str)"
   ]
  },
  {
   "cell_type": "code",
   "execution_count": 218,
   "id": "bored-offset",
   "metadata": {},
   "outputs": [],
   "source": [
    "from sklearn.preprocessing import OrdinalEncoder\n",
    "ord_enc = OrdinalEncoder()\n",
    "data[['Letter_ticket']] = ord_enc.fit_transform(data[['Letter_ticket']]).astype(int)"
   ]
  },
  {
   "cell_type": "code",
   "execution_count": 219,
   "id": "further-aruba",
   "metadata": {},
   "outputs": [],
   "source": [
    "data[['Person_status']] = ord_enc.fit_transform(data[['Person_status']]).astype(int)"
   ]
  },
  {
   "cell_type": "code",
   "execution_count": 220,
   "id": "beautiful-ground",
   "metadata": {},
   "outputs": [],
   "source": [
    "data[['Cabin_level']] = ord_enc.fit_transform(data[['Cabin_level']]).astype(int) "
   ]
  },
  {
   "cell_type": "code",
   "execution_count": 221,
   "id": "monetary-fitness",
   "metadata": {},
   "outputs": [],
   "source": [
    "data[['Embarked']] = ord_enc.fit_transform(data[['Embarked']]).astype(int)"
   ]
  },
  {
   "cell_type": "code",
   "execution_count": 222,
   "id": "absent-lecture",
   "metadata": {},
   "outputs": [],
   "source": [
    "data = data.drop(columns='PassengerId') # Passenger id doesn't affect the result"
   ]
  },
  {
   "cell_type": "code",
   "execution_count": 223,
   "id": "dense-cooper",
   "metadata": {},
   "outputs": [],
   "source": [
    "def feature_engineering(data):\n",
    "    data['Sex'] = data['Sex'].apply(lambda x: 1 if x == 'male' else 2)\n",
    "    ord_enc = OrdinalEncoder()\n",
    "    data['Letter_ticket'] = data['Letter_ticket'].astype(str)\n",
    "    data[['Letter_ticket']] = ord_enc.fit_transform(data[['Letter_ticket']]).astype(int)\n",
    "    data[['Person_status']] = ord_enc.fit_transform(data[['Person_status']]).astype(int)\n",
    "    data[['Cabin_level']] = ord_enc.fit_transform(data[['Cabin_level']]).astype(int) \n",
    "    data[['Embarked']] = ord_enc.fit_transform(data[['Embarked']]).astype(int)\n",
    "    data = data.drop(columns='PassengerId')\n",
    "    return data"
   ]
  },
  {
   "cell_type": "code",
   "execution_count": 224,
   "id": "advisory-battery",
   "metadata": {},
   "outputs": [],
   "source": [
    "target = data[['Survived']]"
   ]
  },
  {
   "cell_type": "code",
   "execution_count": 225,
   "id": "united-wedding",
   "metadata": {},
   "outputs": [],
   "source": [
    "data = data.drop(columns='Survived')"
   ]
  },
  {
   "cell_type": "code",
   "execution_count": 226,
   "id": "upper-shopper",
   "metadata": {},
   "outputs": [],
   "source": [
    "from sklearn.preprocessing import StandardScaler\n",
    "scaler = StandardScaler().fit(data)"
   ]
  },
  {
   "cell_type": "code",
   "execution_count": 228,
   "id": "divine-secretariat",
   "metadata": {},
   "outputs": [
    {
     "data": {
      "text/html": [
       "<div>\n",
       "<style scoped>\n",
       "    .dataframe tbody tr th:only-of-type {\n",
       "        vertical-align: middle;\n",
       "    }\n",
       "\n",
       "    .dataframe tbody tr th {\n",
       "        vertical-align: top;\n",
       "    }\n",
       "\n",
       "    .dataframe thead th {\n",
       "        text-align: right;\n",
       "    }\n",
       "</style>\n",
       "<table border=\"1\" class=\"dataframe\">\n",
       "  <thead>\n",
       "    <tr style=\"text-align: right;\">\n",
       "      <th></th>\n",
       "      <th>0</th>\n",
       "      <th>1</th>\n",
       "      <th>2</th>\n",
       "      <th>3</th>\n",
       "      <th>4</th>\n",
       "      <th>5</th>\n",
       "      <th>6</th>\n",
       "      <th>7</th>\n",
       "      <th>8</th>\n",
       "      <th>9</th>\n",
       "      <th>10</th>\n",
       "    </tr>\n",
       "  </thead>\n",
       "  <tbody>\n",
       "    <tr>\n",
       "      <th>0</th>\n",
       "      <td>0.825209</td>\n",
       "      <td>0.735342</td>\n",
       "      <td>-1.732505</td>\n",
       "      <td>0.431350</td>\n",
       "      <td>-0.474326</td>\n",
       "      <td>0.586840</td>\n",
       "      <td>-0.485905</td>\n",
       "      <td>0.519424</td>\n",
       "      <td>-0.458016</td>\n",
       "      <td>-0.162828</td>\n",
       "      <td>0.414443</td>\n",
       "    </tr>\n",
       "    <tr>\n",
       "      <th>1</th>\n",
       "      <td>-1.572211</td>\n",
       "      <td>-1.359911</td>\n",
       "      <td>-1.728611</td>\n",
       "      <td>0.431350</td>\n",
       "      <td>-0.474326</td>\n",
       "      <td>-1.939555</td>\n",
       "      <td>1.344476</td>\n",
       "      <td>-1.932442</td>\n",
       "      <td>-0.458016</td>\n",
       "      <td>1.023684</td>\n",
       "      <td>0.961091</td>\n",
       "    </tr>\n",
       "    <tr>\n",
       "      <th>2</th>\n",
       "      <td>0.825209</td>\n",
       "      <td>-1.359911</td>\n",
       "      <td>-1.724718</td>\n",
       "      <td>-0.475199</td>\n",
       "      <td>-0.474326</td>\n",
       "      <td>0.586840</td>\n",
       "      <td>-0.485905</td>\n",
       "      <td>0.519424</td>\n",
       "      <td>-0.458016</td>\n",
       "      <td>3.248395</td>\n",
       "      <td>-1.225498</td>\n",
       "    </tr>\n",
       "    <tr>\n",
       "      <th>3</th>\n",
       "      <td>-1.572211</td>\n",
       "      <td>-1.359911</td>\n",
       "      <td>-1.720825</td>\n",
       "      <td>0.431350</td>\n",
       "      <td>-0.474326</td>\n",
       "      <td>0.586840</td>\n",
       "      <td>1.344476</td>\n",
       "      <td>-1.932442</td>\n",
       "      <td>-0.188364</td>\n",
       "      <td>-0.459457</td>\n",
       "      <td>0.961091</td>\n",
       "    </tr>\n",
       "    <tr>\n",
       "      <th>4</th>\n",
       "      <td>0.825209</td>\n",
       "      <td>0.735342</td>\n",
       "      <td>-1.716931</td>\n",
       "      <td>-0.475199</td>\n",
       "      <td>-0.474326</td>\n",
       "      <td>0.586840</td>\n",
       "      <td>-0.485905</td>\n",
       "      <td>0.519424</td>\n",
       "      <td>0.426859</td>\n",
       "      <td>-0.459457</td>\n",
       "      <td>0.414443</td>\n",
       "    </tr>\n",
       "  </tbody>\n",
       "</table>\n",
       "</div>"
      ],
      "text/plain": [
       "         0         1         2         3         4         5         6   \\\n",
       "0  0.825209  0.735342 -1.732505  0.431350 -0.474326  0.586840 -0.485905   \n",
       "1 -1.572211 -1.359911 -1.728611  0.431350 -0.474326 -1.939555  1.344476   \n",
       "2  0.825209 -1.359911 -1.724718 -0.475199 -0.474326  0.586840 -0.485905   \n",
       "3 -1.572211 -1.359911 -1.720825  0.431350 -0.474326  0.586840  1.344476   \n",
       "4  0.825209  0.735342 -1.716931 -0.475199 -0.474326  0.586840 -0.485905   \n",
       "\n",
       "         7         8         9         10  \n",
       "0  0.519424 -0.458016 -0.162828  0.414443  \n",
       "1 -1.932442 -0.458016  1.023684  0.961091  \n",
       "2  0.519424 -0.458016  3.248395 -1.225498  \n",
       "3 -1.932442 -0.188364 -0.459457  0.961091  \n",
       "4  0.519424  0.426859 -0.459457  0.414443  "
      ]
     },
     "execution_count": 228,
     "metadata": {},
     "output_type": "execute_result"
    }
   ],
   "source": [
    "data_rescaled = pd.DataFrame(scaler.transform(data))\n",
    "data_rescaled.head()"
   ]
  },
  {
   "cell_type": "code",
   "execution_count": 251,
   "id": "premium-might",
   "metadata": {},
   "outputs": [],
   "source": [
    "def rescale_data(data):\n",
    "    scaler = StandardScaler().fit(data)\n",
    "    data_rescaled = pd.DataFrame(scaler.transform(data))\n",
    "    return data_rescaled"
   ]
  },
  {
   "cell_type": "markdown",
   "id": "fantastic-alcohol",
   "metadata": {},
   "source": [
    "## Experiments with principal components"
   ]
  },
  {
   "cell_type": "code",
   "execution_count": 229,
   "id": "floppy-kitty",
   "metadata": {},
   "outputs": [
    {
     "data": {
      "text/plain": [
       "PCA()"
      ]
     },
     "execution_count": 229,
     "metadata": {},
     "output_type": "execute_result"
    }
   ],
   "source": [
    "from sklearn.decomposition import PCA\n",
    "pca = PCA()\n",
    "pca.fit(data_rescaled)"
   ]
  },
  {
   "cell_type": "code",
   "execution_count": 232,
   "id": "toxic-moore",
   "metadata": {
    "scrolled": true
   },
   "outputs": [
    {
     "data": {
      "image/png": "[encoded data removed]",
      "text/plain": [
       "<Figure size 1440x576 with 1 Axes>"
      ]
     },
     "metadata": {
      "needs_background": "light"
     },
     "output_type": "display_data"
    }
   ],
   "source": [
    "fig, ax = plt.subplots()\n",
    "\n",
    "fig.set_figwidth(20)\n",
    "fig.set_figheight(8)\n",
    "\n",
    "plt.title('Ratio of variance explained by each principal component', fontsize=16)\n",
    "\n",
    "x = np.arange(1, 12, step=1) # where x - different components amount\n",
    "y = np.cumsum(pca.explained_variance_ratio_) # y - cumulative values\n",
    "\n",
    "plt.plot(x, y, marker='o') # markers for more accurate determination of principal components number\n",
    "\n",
    "plt.xlabel('Components number')\n",
    "plt.xticks(np.arange(1, 10, step=1))\n",
    "plt.ylabel('Variance ratio')\n",
    "\n",
    "# We will find the number of components at the intersection of this line with the plot (this line is 95% of variance)\n",
    "plt.axhline(y=0.9, linestyle='--', color='red') \n",
    "plt.text(0, 0.96, '90% variance', color='red', fontsize=14)\n",
    "\n",
    "ax.grid()\n",
    "plt.show()"
   ]
  },
  {
   "cell_type": "code",
   "execution_count": 233,
   "id": "silent-silver",
   "metadata": {},
   "outputs": [],
   "source": [
    "pca = PCA(n_components=8)\n",
    "reduced = pca.fit_transform(data_rescaled)"
   ]
  },
  {
   "cell_type": "code",
   "execution_count": 234,
   "id": "marked-hearing",
   "metadata": {},
   "outputs": [
    {
     "data": {
      "text/plain": [
       "8"
      ]
     },
     "execution_count": 234,
     "metadata": {},
     "output_type": "execute_result"
    }
   ],
   "source": [
    "data_reduced = pd.DataFrame(reduced)\n",
    "len(data_reduced.columns)"
   ]
  },
  {
   "cell_type": "code",
   "execution_count": 235,
   "id": "floppy-secretariat",
   "metadata": {},
   "outputs": [
    {
     "data": {
      "text/html": [
       "<div>\n",
       "<style scoped>\n",
       "    .dataframe tbody tr th:only-of-type {\n",
       "        vertical-align: middle;\n",
       "    }\n",
       "\n",
       "    .dataframe tbody tr th {\n",
       "        vertical-align: top;\n",
       "    }\n",
       "\n",
       "    .dataframe thead th {\n",
       "        text-align: right;\n",
       "    }\n",
       "</style>\n",
       "<table border=\"1\" class=\"dataframe\">\n",
       "  <thead>\n",
       "    <tr style=\"text-align: right;\">\n",
       "      <th></th>\n",
       "      <th>Pclass</th>\n",
       "      <th>Sex</th>\n",
       "      <th>Age</th>\n",
       "      <th>SibSp</th>\n",
       "      <th>Parch</th>\n",
       "      <th>Embarked</th>\n",
       "      <th>Cabin_multiple</th>\n",
       "      <th>Cabin_level</th>\n",
       "      <th>Numeric_ticket</th>\n",
       "      <th>Letter_ticket</th>\n",
       "      <th>Person_status</th>\n",
       "    </tr>\n",
       "  </thead>\n",
       "  <tbody>\n",
       "    <tr>\n",
       "      <th>Dimension 1</th>\n",
       "      <td>-0.519</td>\n",
       "      <td>-0.149</td>\n",
       "      <td>0.025</td>\n",
       "      <td>-0.031</td>\n",
       "      <td>0.055</td>\n",
       "      <td>-0.199</td>\n",
       "      <td>0.542</td>\n",
       "      <td>-0.565</td>\n",
       "      <td>-0.210</td>\n",
       "      <td>0.045</td>\n",
       "      <td>-0.067</td>\n",
       "    </tr>\n",
       "    <tr>\n",
       "      <th>Dimension 2</th>\n",
       "      <td>0.080</td>\n",
       "      <td>-0.391</td>\n",
       "      <td>-0.099</td>\n",
       "      <td>0.559</td>\n",
       "      <td>0.550</td>\n",
       "      <td>0.053</td>\n",
       "      <td>0.041</td>\n",
       "      <td>0.023</td>\n",
       "      <td>0.230</td>\n",
       "      <td>-0.083</td>\n",
       "      <td>-0.389</td>\n",
       "    </tr>\n",
       "    <tr>\n",
       "      <th>Dimension 3</th>\n",
       "      <td>-0.085</td>\n",
       "      <td>0.263</td>\n",
       "      <td>0.138</td>\n",
       "      <td>0.058</td>\n",
       "      <td>0.002</td>\n",
       "      <td>0.366</td>\n",
       "      <td>0.204</td>\n",
       "      <td>-0.193</td>\n",
       "      <td>0.522</td>\n",
       "      <td>-0.589</td>\n",
       "      <td>0.263</td>\n",
       "    </tr>\n",
       "    <tr>\n",
       "      <th>Dimension 4</th>\n",
       "      <td>-0.039</td>\n",
       "      <td>0.311</td>\n",
       "      <td>0.210</td>\n",
       "      <td>0.281</td>\n",
       "      <td>0.336</td>\n",
       "      <td>0.461</td>\n",
       "      <td>0.085</td>\n",
       "      <td>-0.028</td>\n",
       "      <td>-0.189</td>\n",
       "      <td>0.537</td>\n",
       "      <td>0.349</td>\n",
       "    </tr>\n",
       "    <tr>\n",
       "      <th>Dimension 5</th>\n",
       "      <td>0.039</td>\n",
       "      <td>-0.146</td>\n",
       "      <td>0.942</td>\n",
       "      <td>-0.065</td>\n",
       "      <td>0.074</td>\n",
       "      <td>-0.100</td>\n",
       "      <td>-0.081</td>\n",
       "      <td>0.066</td>\n",
       "      <td>-0.131</td>\n",
       "      <td>-0.147</td>\n",
       "      <td>-0.140</td>\n",
       "    </tr>\n",
       "  </tbody>\n",
       "</table>\n",
       "</div>"
      ],
      "text/plain": [
       "             Pclass    Sex    Age  SibSp  Parch  Embarked  Cabin_multiple  \\\n",
       "Dimension 1  -0.519 -0.149  0.025 -0.031  0.055    -0.199           0.542   \n",
       "Dimension 2   0.080 -0.391 -0.099  0.559  0.550     0.053           0.041   \n",
       "Dimension 3  -0.085  0.263  0.138  0.058  0.002     0.366           0.204   \n",
       "Dimension 4  -0.039  0.311  0.210  0.281  0.336     0.461           0.085   \n",
       "Dimension 5   0.039 -0.146  0.942 -0.065  0.074    -0.100          -0.081   \n",
       "\n",
       "             Cabin_level  Numeric_ticket  Letter_ticket  Person_status  \n",
       "Dimension 1       -0.565          -0.210          0.045         -0.067  \n",
       "Dimension 2        0.023           0.230         -0.083         -0.389  \n",
       "Dimension 3       -0.193           0.522         -0.589          0.263  \n",
       "Dimension 4       -0.028          -0.189          0.537          0.349  \n",
       "Dimension 5        0.066          -0.131         -0.147         -0.140  "
      ]
     },
     "execution_count": 235,
     "metadata": {},
     "output_type": "execute_result"
    }
   ],
   "source": [
    "dimensions = [f'Dimension {i}' for i in range(1, len(pca.components_)+1)]\n",
    "components = pd.DataFrame(np.round(pca.components_, 3), columns=data.columns)\n",
    "components.index = dimensions\n",
    "components.head()"
   ]
  },
  {
   "cell_type": "code",
   "execution_count": 236,
   "id": "drawn-colombia",
   "metadata": {},
   "outputs": [],
   "source": [
    "def get_component(comp):\n",
    "    dim_comp = {1: 'Dimension 1', 2: 'Dimension 2', 3: 'Dimension 3'}\n",
    "    sorted_weights = components.T.sort_values(by=dim_comp[comp], ascending=False)[dim_comp[comp]]\n",
    "    return sorted_weights"
   ]
  },
  {
   "cell_type": "code",
   "execution_count": 248,
   "id": "closing-technician",
   "metadata": {},
   "outputs": [
    {
     "data": {
      "text/plain": [
       "Cabin_multiple    0.542\n",
       "Parch             0.055\n",
       "Letter_ticket     0.045\n",
       "Age               0.025\n",
       "SibSp            -0.031\n",
       "Name: Dimension 1, dtype: float64"
      ]
     },
     "execution_count": 248,
     "metadata": {},
     "output_type": "execute_result"
    }
   ],
   "source": [
    "get_component(1).head()"
   ]
  },
  {
   "cell_type": "code",
   "execution_count": 249,
   "id": "fresh-craps",
   "metadata": {},
   "outputs": [
    {
     "data": {
      "text/plain": [
       "Sex              -0.149\n",
       "Embarked         -0.199\n",
       "Numeric_ticket   -0.210\n",
       "Pclass           -0.519\n",
       "Cabin_level      -0.565\n",
       "Name: Dimension 1, dtype: float64"
      ]
     },
     "execution_count": 249,
     "metadata": {},
     "output_type": "execute_result"
    }
   ],
   "source": [
    "get_component(1).tail()"
   ]
  },
  {
   "cell_type": "markdown",
   "id": "accomplished-signature",
   "metadata": {},
   "source": [
    "The first principal component is strongly correlated with the next variables: Cabin_multiple, Cabin_level, Pclass, Numeric_ticket, Embarked, Sex. The second PC - with SibSp, Parch, Sex. If we had a lot of features, we need to left only them. But in our case, PCA was just an experiment, and there is no need to remove the features. "
   ]
  },
  {
   "cell_type": "markdown",
   "id": "greek-weekend",
   "metadata": {},
   "source": [
    "**Apply transformations for train and test dataset**"
   ]
  },
  {
   "cell_type": "code",
   "execution_count": 276,
   "id": "exceptional-private",
   "metadata": {},
   "outputs": [],
   "source": [
    "train = handle_features(train)\n",
    "train = clear_nans(train)"
   ]
  },
  {
   "cell_type": "code",
   "execution_count": 278,
   "id": "appointed-alias",
   "metadata": {},
   "outputs": [],
   "source": [
    "train, test = train_test_split(train, test_size=0.3, train_size=0.7)"
   ]
  },
  {
   "cell_type": "code",
   "execution_count": 280,
   "id": "downtown-julian",
   "metadata": {},
   "outputs": [],
   "source": [
    "y_train = train[['Survived']]\n",
    "y_test = test[['Survived']]"
   ]
  },
  {
   "cell_type": "code",
   "execution_count": 281,
   "id": "banner-antique",
   "metadata": {},
   "outputs": [],
   "source": [
    "X_train = train.drop(columns='Survived')\n",
    "X_test = test.drop(columns='Survived')"
   ]
  },
  {
   "cell_type": "code",
   "execution_count": 282,
   "id": "chinese-dialogue",
   "metadata": {},
   "outputs": [],
   "source": [
    "X_train = feature_engineering(X_train)\n",
    "X_test = feature_engineering(X_test)"
   ]
  },
  {
   "cell_type": "code",
   "execution_count": 283,
   "id": "gross-cisco",
   "metadata": {},
   "outputs": [
    {
     "data": {
      "text/html": [
       "<div>\n",
       "<style scoped>\n",
       "    .dataframe tbody tr th:only-of-type {\n",
       "        vertical-align: middle;\n",
       "    }\n",
       "\n",
       "    .dataframe tbody tr th {\n",
       "        vertical-align: top;\n",
       "    }\n",
       "\n",
       "    .dataframe thead th {\n",
       "        text-align: right;\n",
       "    }\n",
       "</style>\n",
       "<table border=\"1\" class=\"dataframe\">\n",
       "  <thead>\n",
       "    <tr style=\"text-align: right;\">\n",
       "      <th></th>\n",
       "      <th>0</th>\n",
       "      <th>1</th>\n",
       "      <th>2</th>\n",
       "      <th>3</th>\n",
       "      <th>4</th>\n",
       "      <th>5</th>\n",
       "      <th>6</th>\n",
       "      <th>7</th>\n",
       "      <th>8</th>\n",
       "      <th>9</th>\n",
       "      <th>10</th>\n",
       "      <th>11</th>\n",
       "    </tr>\n",
       "  </thead>\n",
       "  <tbody>\n",
       "    <tr>\n",
       "      <th>0</th>\n",
       "      <td>0.818603</td>\n",
       "      <td>-0.742376</td>\n",
       "      <td>0.660970</td>\n",
       "      <td>-0.476423</td>\n",
       "      <td>-0.471811</td>\n",
       "      <td>-0.452196</td>\n",
       "      <td>0.613889</td>\n",
       "      <td>-0.494605</td>\n",
       "      <td>0.524330</td>\n",
       "      <td>0.432641</td>\n",
       "      <td>-0.475264</td>\n",
       "      <td>0.430366</td>\n",
       "    </tr>\n",
       "    <tr>\n",
       "      <th>1</th>\n",
       "      <td>-0.371049</td>\n",
       "      <td>-0.742376</td>\n",
       "      <td>1.530397</td>\n",
       "      <td>-0.476423</td>\n",
       "      <td>-0.471811</td>\n",
       "      <td>-0.403807</td>\n",
       "      <td>0.613889</td>\n",
       "      <td>-0.494605</td>\n",
       "      <td>0.524330</td>\n",
       "      <td>-0.472039</td>\n",
       "      <td>2.518698</td>\n",
       "      <td>0.430366</td>\n",
       "    </tr>\n",
       "    <tr>\n",
       "      <th>2</th>\n",
       "      <td>-0.371049</td>\n",
       "      <td>-0.742376</td>\n",
       "      <td>-0.997450</td>\n",
       "      <td>-0.476423</td>\n",
       "      <td>-0.471811</td>\n",
       "      <td>-0.313943</td>\n",
       "      <td>-1.881790</td>\n",
       "      <td>-0.494605</td>\n",
       "      <td>0.524330</td>\n",
       "      <td>-0.472039</td>\n",
       "      <td>2.203544</td>\n",
       "      <td>0.430366</td>\n",
       "    </tr>\n",
       "    <tr>\n",
       "      <th>3</th>\n",
       "      <td>0.818603</td>\n",
       "      <td>1.347026</td>\n",
       "      <td>1.614658</td>\n",
       "      <td>7.121914</td>\n",
       "      <td>2.113797</td>\n",
       "      <td>0.762460</td>\n",
       "      <td>0.613889</td>\n",
       "      <td>-0.494605</td>\n",
       "      <td>0.524330</td>\n",
       "      <td>-0.472039</td>\n",
       "      <td>0.312621</td>\n",
       "      <td>-1.271039</td>\n",
       "    </tr>\n",
       "    <tr>\n",
       "      <th>4</th>\n",
       "      <td>-1.560700</td>\n",
       "      <td>-0.742376</td>\n",
       "      <td>1.162710</td>\n",
       "      <td>0.473369</td>\n",
       "      <td>0.820993</td>\n",
       "      <td>0.791098</td>\n",
       "      <td>0.613889</td>\n",
       "      <td>1.381274</td>\n",
       "      <td>-2.343676</td>\n",
       "      <td>-0.472039</td>\n",
       "      <td>3.621737</td>\n",
       "      <td>-5.240984</td>\n",
       "    </tr>\n",
       "  </tbody>\n",
       "</table>\n",
       "</div>"
      ],
      "text/plain": [
       "         0         1         2         3         4         5         6   \\\n",
       "0  0.818603 -0.742376  0.660970 -0.476423 -0.471811 -0.452196  0.613889   \n",
       "1 -0.371049 -0.742376  1.530397 -0.476423 -0.471811 -0.403807  0.613889   \n",
       "2 -0.371049 -0.742376 -0.997450 -0.476423 -0.471811 -0.313943 -1.881790   \n",
       "3  0.818603  1.347026  1.614658  7.121914  2.113797  0.762460  0.613889   \n",
       "4 -1.560700 -0.742376  1.162710  0.473369  0.820993  0.791098  0.613889   \n",
       "\n",
       "         7         8         9         10        11  \n",
       "0 -0.494605  0.524330  0.432641 -0.475264  0.430366  \n",
       "1 -0.494605  0.524330 -0.472039  2.518698  0.430366  \n",
       "2 -0.494605  0.524330 -0.472039  2.203544  0.430366  \n",
       "3 -0.494605  0.524330 -0.472039  0.312621 -1.271039  \n",
       "4  1.381274 -2.343676 -0.472039  3.621737 -5.240984  "
      ]
     },
     "execution_count": 283,
     "metadata": {},
     "output_type": "execute_result"
    }
   ],
   "source": [
    "X_train = rescale_data(X_train)\n",
    "X_train.head()"
   ]
  },
  {
   "cell_type": "code",
   "execution_count": 284,
   "id": "future-center",
   "metadata": {},
   "outputs": [
    {
     "data": {
      "text/html": [
       "<div>\n",
       "<style scoped>\n",
       "    .dataframe tbody tr th:only-of-type {\n",
       "        vertical-align: middle;\n",
       "    }\n",
       "\n",
       "    .dataframe tbody tr th {\n",
       "        vertical-align: top;\n",
       "    }\n",
       "\n",
       "    .dataframe thead th {\n",
       "        text-align: right;\n",
       "    }\n",
       "</style>\n",
       "<table border=\"1\" class=\"dataframe\">\n",
       "  <thead>\n",
       "    <tr style=\"text-align: right;\">\n",
       "      <th></th>\n",
       "      <th>0</th>\n",
       "      <th>1</th>\n",
       "      <th>2</th>\n",
       "      <th>3</th>\n",
       "      <th>4</th>\n",
       "      <th>5</th>\n",
       "      <th>6</th>\n",
       "      <th>7</th>\n",
       "      <th>8</th>\n",
       "      <th>9</th>\n",
       "      <th>10</th>\n",
       "      <th>11</th>\n",
       "    </tr>\n",
       "  </thead>\n",
       "  <tbody>\n",
       "    <tr>\n",
       "      <th>0</th>\n",
       "      <td>0.841192</td>\n",
       "      <td>1.390707</td>\n",
       "      <td>-1.433386</td>\n",
       "      <td>-0.476518</td>\n",
       "      <td>-0.482791</td>\n",
       "      <td>-0.569022</td>\n",
       "      <td>0.524082</td>\n",
       "      <td>-0.468165</td>\n",
       "      <td>0.497633</td>\n",
       "      <td>0.320875</td>\n",
       "      <td>-0.456191</td>\n",
       "      <td>-1.208424</td>\n",
       "    </tr>\n",
       "    <tr>\n",
       "      <th>1</th>\n",
       "      <td>0.841192</td>\n",
       "      <td>1.390707</td>\n",
       "      <td>1.272526</td>\n",
       "      <td>-0.476518</td>\n",
       "      <td>-0.482791</td>\n",
       "      <td>-0.572108</td>\n",
       "      <td>-0.783674</td>\n",
       "      <td>-0.468165</td>\n",
       "      <td>0.497633</td>\n",
       "      <td>0.354547</td>\n",
       "      <td>-0.456191</td>\n",
       "      <td>-1.208424</td>\n",
       "    </tr>\n",
       "    <tr>\n",
       "      <th>2</th>\n",
       "      <td>-0.379451</td>\n",
       "      <td>-0.719059</td>\n",
       "      <td>-0.670701</td>\n",
       "      <td>-0.476518</td>\n",
       "      <td>-0.482791</td>\n",
       "      <td>-0.460983</td>\n",
       "      <td>0.524082</td>\n",
       "      <td>-0.468165</td>\n",
       "      <td>0.497633</td>\n",
       "      <td>0.080401</td>\n",
       "      <td>-0.456191</td>\n",
       "      <td>0.342774</td>\n",
       "    </tr>\n",
       "    <tr>\n",
       "      <th>3</th>\n",
       "      <td>0.841192</td>\n",
       "      <td>1.390707</td>\n",
       "      <td>-1.518580</td>\n",
       "      <td>-0.476518</td>\n",
       "      <td>-0.482791</td>\n",
       "      <td>-0.472096</td>\n",
       "      <td>0.524082</td>\n",
       "      <td>-0.468165</td>\n",
       "      <td>0.497633</td>\n",
       "      <td>0.353826</td>\n",
       "      <td>-0.456191</td>\n",
       "      <td>-1.208424</td>\n",
       "    </tr>\n",
       "    <tr>\n",
       "      <th>4</th>\n",
       "      <td>0.841192</td>\n",
       "      <td>-0.719059</td>\n",
       "      <td>0.996661</td>\n",
       "      <td>-0.476518</td>\n",
       "      <td>-0.482791</td>\n",
       "      <td>-0.574225</td>\n",
       "      <td>0.524082</td>\n",
       "      <td>3.004056</td>\n",
       "      <td>-0.468680</td>\n",
       "      <td>0.318450</td>\n",
       "      <td>-0.456191</td>\n",
       "      <td>0.342774</td>\n",
       "    </tr>\n",
       "  </tbody>\n",
       "</table>\n",
       "</div>"
      ],
      "text/plain": [
       "         0         1         2         3         4         5         6   \\\n",
       "0  0.841192  1.390707 -1.433386 -0.476518 -0.482791 -0.569022  0.524082   \n",
       "1  0.841192  1.390707  1.272526 -0.476518 -0.482791 -0.572108 -0.783674   \n",
       "2 -0.379451 -0.719059 -0.670701 -0.476518 -0.482791 -0.460983  0.524082   \n",
       "3  0.841192  1.390707 -1.518580 -0.476518 -0.482791 -0.472096  0.524082   \n",
       "4  0.841192 -0.719059  0.996661 -0.476518 -0.482791 -0.574225  0.524082   \n",
       "\n",
       "         7         8         9         10        11  \n",
       "0 -0.468165  0.497633  0.320875 -0.456191 -1.208424  \n",
       "1 -0.468165  0.497633  0.354547 -0.456191 -1.208424  \n",
       "2 -0.468165  0.497633  0.080401 -0.456191  0.342774  \n",
       "3 -0.468165  0.497633  0.353826 -0.456191 -1.208424  \n",
       "4  3.004056 -0.468680  0.318450 -0.456191  0.342774  "
      ]
     },
     "execution_count": 284,
     "metadata": {},
     "output_type": "execute_result"
    }
   ],
   "source": [
    "X_test = rescale_data(X_test)\n",
    "X_test.head()"
   ]
  },
  {
   "cell_type": "code",
   "execution_count": 292,
   "id": "moderate-aerospace",
   "metadata": {},
   "outputs": [
    {
     "data": {
      "text/plain": [
       "267"
      ]
     },
     "execution_count": 292,
     "metadata": {},
     "output_type": "execute_result"
    }
   ],
   "source": [
    "len(X_test)"
   ]
  },
  {
   "cell_type": "code",
   "execution_count": 294,
   "id": "answering-premium",
   "metadata": {},
   "outputs": [
    {
     "data": {
      "text/plain": [
       "267"
      ]
     },
     "execution_count": 294,
     "metadata": {},
     "output_type": "execute_result"
    }
   ],
   "source": [
    "len(y_test)"
   ]
  },
  {
   "cell_type": "markdown",
   "id": "liberal-creativity",
   "metadata": {},
   "source": [
    "## Building the model"
   ]
  },
  {
   "cell_type": "markdown",
   "id": "lyric-direction",
   "metadata": {},
   "source": [
    "We will test the following classifiers:\n",
    "- Logistic Regression\n",
    "- K Nearest Neighbors\n",
    "- Random Forest \n",
    "- Support Vector Classifier\n",
    "- Naive Bayes"
   ]
  },
  {
   "cell_type": "markdown",
   "id": "beautiful-parallel",
   "metadata": {},
   "source": [
    "**Logistic Regression**"
   ]
  },
  {
   "cell_type": "code",
   "execution_count": 288,
   "id": "unsigned-probability",
   "metadata": {},
   "outputs": [
    {
     "name": "stderr",
     "output_type": "stream",
     "text": [
      "C:\\Users\\irair\\Anaconda3\\envs\\pythonProject\\lib\\site-packages\\sklearn\\utils\\validation.py:63: DataConversionWarning: A column-vector y was passed when a 1d array was expected. Please change the shape of y to (n_samples, ), for example using ravel().\n",
      "  return f(*args, **kwargs)\n"
     ]
    },
    {
     "data": {
      "text/plain": [
       "LogisticRegression()"
      ]
     },
     "execution_count": 288,
     "metadata": {},
     "output_type": "execute_result"
    }
   ],
   "source": [
    "lr = LogisticRegression()\n",
    "lr.fit(X_train, y_train)"
   ]
  },
  {
   "cell_type": "code",
   "execution_count": 297,
   "id": "broad-number",
   "metadata": {},
   "outputs": [],
   "source": [
    "y_hat = lr.predict(X_test).astype(int)"
   ]
  },
  {
   "cell_type": "code",
   "execution_count": 301,
   "id": "recorded-murder",
   "metadata": {},
   "outputs": [
    {
     "data": {
      "text/plain": [
       "(0.7565543071161048, 0.6372549019607843)"
      ]
     },
     "execution_count": 301,
     "metadata": {},
     "output_type": "execute_result"
    }
   ],
   "source": [
    "accuracy_score(y_test, y_hat), fbeta_score(y_test, y_hat, beta=0.5)"
   ]
  },
  {
   "cell_type": "markdown",
   "id": "civic-intersection",
   "metadata": {},
   "source": [
    "**K-NN**"
   ]
  },
  {
   "cell_type": "code",
   "execution_count": 310,
   "id": "interested-laptop",
   "metadata": {},
   "outputs": [
    {
     "name": "stdout",
     "output_type": "stream",
     "text": [
      "Fitting 5 folds for each of 60 candidates, totalling 300 fits\n"
     ]
    },
    {
     "name": "stderr",
     "output_type": "stream",
     "text": [
      "C:\\Users\\irair\\Anaconda3\\envs\\pythonProject\\lib\\site-packages\\sklearn\\neighbors\\_classification.py:179: DataConversionWarning: A column-vector y was passed when a 1d array was expected. Please change the shape of y to (n_samples,), for example using ravel().\n",
      "  return self._fit(X, y)\n"
     ]
    },
    {
     "data": {
      "text/plain": [
       "(0.7453183520599251, 0.6225296442687747)"
      ]
     },
     "execution_count": 310,
     "metadata": {},
     "output_type": "execute_result"
    }
   ],
   "source": [
    "knn = KNeighborsClassifier()\n",
    "param_grid = {'n_neighbors' : [3, 5, 7, 9, 11],\n",
    "              'weights' : ['uniform', 'distance'],\n",
    "              'algorithm' : ['auto', 'ball_tree','kd_tree'],\n",
    "              'p' : [1, 2]}\n",
    "clf_knn = GridSearchCV(knn, param_grid = param_grid, cv = 5, verbose = True, n_jobs = -1)\n",
    "clf_knn.fit(X_train, y_train)\n",
    "y_hat = clf_knn.predict(X_test).astype(int)\n",
    "accuracy_score(y_test, y_hat), fbeta_score(y_test, y_hat, beta=0.5)"
   ]
  },
  {
   "cell_type": "markdown",
   "id": "innocent-cassette",
   "metadata": {},
   "source": [
    "**Random forest**"
   ]
  },
  {
   "cell_type": "code",
   "execution_count": 307,
   "id": "dominican-indonesia",
   "metadata": {},
   "outputs": [
    {
     "name": "stderr",
     "output_type": "stream",
     "text": [
      "<ipython-input-307-86bd5a2a2371>:2: DataConversionWarning: A column-vector y was passed when a 1d array was expected. Please change the shape of y to (n_samples,), for example using ravel().\n",
      "  rf.fit(X_train, y_train)\n"
     ]
    },
    {
     "data": {
      "text/plain": [
       "(0.7715355805243446, 0.6589958158995817)"
      ]
     },
     "execution_count": 307,
     "metadata": {},
     "output_type": "execute_result"
    }
   ],
   "source": [
    "rf = RandomForestClassifier()\n",
    "rf.fit(X_train, y_train)\n",
    "y_hat = rf.predict(X_test).astype(int)\n",
    "accuracy_score(y_test, y_hat), fbeta_score(y_test, y_hat, beta=0.5)"
   ]
  },
  {
   "cell_type": "markdown",
   "id": "international-partner",
   "metadata": {},
   "source": [
    "**Support Vector Classifier**"
   ]
  },
  {
   "cell_type": "code",
   "execution_count": 322,
   "id": "physical-oxide",
   "metadata": {},
   "outputs": [
    {
     "name": "stderr",
     "output_type": "stream",
     "text": [
      "C:\\Users\\irair\\Anaconda3\\envs\\pythonProject\\lib\\site-packages\\sklearn\\utils\\validation.py:63: DataConversionWarning: A column-vector y was passed when a 1d array was expected. Please change the shape of y to (n_samples, ), for example using ravel().\n",
      "  return f(*args, **kwargs)\n"
     ]
    },
    {
     "data": {
      "text/plain": [
       "(0.7827715355805244, 0.673469387755102)"
      ]
     },
     "execution_count": 322,
     "metadata": {},
     "output_type": "execute_result"
    }
   ],
   "source": [
    "svc = SVC()\n",
    "svc.fit(X_train, y_train)\n",
    "y_hat = svc.predict(X_test).astype(int)\n",
    "accuracy_score(y_test, y_hat), fbeta_score(y_test, y_hat, beta=0.5)"
   ]
  },
  {
   "cell_type": "markdown",
   "id": "changed-medicare",
   "metadata": {},
   "source": [
    "**Naive Bayes**"
   ]
  },
  {
   "cell_type": "code",
   "execution_count": 314,
   "id": "continental-blocking",
   "metadata": {},
   "outputs": [
    {
     "name": "stderr",
     "output_type": "stream",
     "text": [
      "C:\\Users\\irair\\Anaconda3\\envs\\pythonProject\\lib\\site-packages\\sklearn\\utils\\validation.py:63: DataConversionWarning: A column-vector y was passed when a 1d array was expected. Please change the shape of y to (n_samples, ), for example using ravel().\n",
      "  return f(*args, **kwargs)\n"
     ]
    },
    {
     "data": {
      "text/plain": [
       "(0.7490636704119851, 0.6274131274131274)"
      ]
     },
     "execution_count": 314,
     "metadata": {},
     "output_type": "execute_result"
    }
   ],
   "source": [
    "gnb = GaussianNB()\n",
    "gnb.fit(X_train, y_train)\n",
    "y_hat = gnb.predict(X_test).astype(int)\n",
    "accuracy_score(y_test, y_hat), fbeta_score(y_test, y_hat, beta=0.5)"
   ]
  },
  {
   "cell_type": "markdown",
   "id": "representative-munich",
   "metadata": {},
   "source": [
    "SVM Classifier is the best one."
   ]
  },
  {
   "cell_type": "markdown",
   "id": "viral-diana",
   "metadata": {},
   "source": [
    "## Model tuning"
   ]
  }
 ],
 "metadata": {
  "kernelspec": {
   "display_name": "Python 3",
   "language": "python",
   "name": "python3"
  },
  "language_info": {
   "codemirror_mode": {
    "name": "ipython",
    "version": 3
   },
   "file_extension": ".py",
   "mimetype": "text/x-python",
   "name": "python",
   "nbconvert_exporter": "python",
   "pygments_lexer": "ipython3",
   "version": "3.8.8"
  }
 },
 "nbformat": 4,
 "nbformat_minor": 5
}
